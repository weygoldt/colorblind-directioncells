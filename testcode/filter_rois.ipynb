{
  "cells": [
    {
      "cell_type": "raw",
      "metadata": {},
      "source": [
        "---\n",
        "title: Finding active ROIs\n",
        "format:\n",
        "  html:\n",
        "    code-fold: false\n",
        "    theme:\n",
        "      light: flatly\n",
        "      dark: darkly\n",
        "---"
      ],
      "id": "b263567f"
    },
    {
      "cell_type": "code",
      "metadata": {},
      "source": [
        "# load essential packages\n",
        "import matplotlib.pyplot as plt\n",
        "import numpy as np\n",
        "import modules.functions as fs\n",
        "\n",
        "from vxtools.summarize.structure import SummaryFile\n",
        "from sklearn.metrics import auc\n",
        "from scipy.stats import pearsonr\n",
        "from modules.dataloader import all_rois\n",
        "from modules.plotstyle import PlotStyle\n",
        "\n",
        "ps = PlotStyle()"
      ],
      "id": "2ea36c55",
      "execution_count": null,
      "outputs": []
    },
    {
      "cell_type": "markdown",
      "metadata": {},
      "source": [
        "## Importing the data\n",
        "\n",
        "To filter all ROIs for the ones that reacted to our stimulus, we first have to load the data.\n"
      ],
      "id": "c88a7efb"
    },
    {
      "cell_type": "code",
      "metadata": {},
      "source": [
        "# now load the data\n",
        "f = SummaryFile('../data/Summary.hdf5')\n",
        "\n",
        "# now select the recordings that were good\n",
        "# good_recs = [5, 8, 9, 10, 11, 13, 14]\n",
        "good_recs = [5, 14]\n",
        "\n",
        "# load matrix of all rois of all layers with good rois\n",
        "d = all_rois(f, good_recs)"
      ],
      "id": "00d5080f",
      "execution_count": null,
      "outputs": []
    },
    {
      "cell_type": "markdown",
      "metadata": {},
      "source": [
        "As described in the [loading_data](loading_data.qmd) notebook, we can now compute the means for all dff time series in each stimulation window.\n"
      ],
      "id": "5dc90a93"
    },
    {
      "cell_type": "code",
      "metadata": {},
      "source": [
        "d.stimulus_means()"
      ],
      "id": "08042100",
      "execution_count": null,
      "outputs": []
    },
    {
      "cell_type": "markdown",
      "metadata": {},
      "source": [
        "## Computing autocorrelation\n",
        "\n",
        "Now we can compute the autocorrelation of each time series to quantify how well a cell (i.e. a single ROI) responds to the stimulation - and sort the ROIs by their correlation coefficient.\n"
      ],
      "id": "6b385f31"
    },
    {
      "cell_type": "code",
      "metadata": {},
      "source": [
        "d.sort_means_by_corr()"
      ],
      "id": "7d4650ce",
      "execution_count": null,
      "outputs": []
    },
    {
      "cell_type": "markdown",
      "metadata": {},
      "source": [
        "Now that we have the correlation coefficients, we can sort all ROIs in out dataset (i.e. all dffs) by their correlation coefficient.\n"
      ],
      "id": "eb5ee8f3"
    },
    {
      "cell_type": "code",
      "metadata": {},
      "source": [
        "#d.mean_dffs = np.array([d.mean_dffs[int(roi)] for roi in d.corrs[:,0]])"
      ],
      "id": "008d3951",
      "execution_count": null,
      "outputs": []
    },
    {
      "cell_type": "markdown",
      "metadata": {},
      "source": [
        "## Thresholding the autocorrelation\n",
        "\n",
        "We use the means for each stimulation phase since the temporal resolution is not needed at this point and it is much easier to work with the means.\n",
        "\n",
        "Before we threshold the autocorrelation, we look at a distribution of them by computing a histogram and estimate the probability density function using a gaussian kernel.\n"
      ],
      "id": "dcc5309f"
    },
    {
      "cell_type": "code",
      "metadata": {},
      "source": [
        "# make a histpgram\n",
        "counts, edges = np.histogram(d.corrs[:, 1], bins=50, density=True)\n",
        "\n",
        "# compute a gaussian KDE\n",
        "xkde, kde = fs.kde1d(d.corrs[:, 1], 0.02, xlims=[edges.min(), edges.max()])"
      ],
      "id": "0344149c",
      "execution_count": null,
      "outputs": []
    },
    {
      "cell_type": "markdown",
      "metadata": {},
      "source": [
        "Now we plot the results.\n"
      ],
      "id": "7ce4bfc2"
    },
    {
      "cell_type": "code",
      "metadata": {},
      "source": [
        "#| code-fold: true\n",
        "fig, ax = plt.subplots(figsize=(14*ps.cm, 6*ps.cm))\n",
        "ax.bar(edges[:-1], counts, width=np.diff(edges),edgecolor=\"white\", facecolor=\"k\", alpha=0.2,linewidth=0, align=\"edge\", zorder=20)\n",
        "ax.plot(xkde, kde, zorder=10, c=\"k\")\n",
        "ax.axvline([0], lw=1, ls=\"dashed\", c=\"k\")\n",
        "ax.set_xlabel(\"Spearman correlation\")\n",
        "ax.set_ylabel(\"Probability density\")"
      ],
      "id": "76cc5f65",
      "execution_count": null,
      "outputs": []
    },
    {
      "cell_type": "markdown",
      "metadata": {},
      "source": [
        "Instead of implementing a fixed correlation coefficient as a threshold, we can instead use an integral of the proabability density function, to get the correlation coefficients that occur with a probability of $\\alpha = 0.05$ or less.\n",
        "\n",
        "Since we are only insterested in strong positive correlations, we can integrate (compute the area under curve, the AUC)between a value on the x axis and the maximum correlation coefficient.\n"
      ],
      "id": "c32dd79a"
    },
    {
      "cell_type": "code",
      "metadata": {},
      "source": [
        "target_auc = 0.05 # probability threshold\n",
        "\n",
        "# create empty arrays for the gradient and index\n",
        "gradient = np.zeros_like(xkde[:-1])\n",
        "index = np.arange(len(xkde[:-1]))\n",
        "\n",
        "# compute the gradient between the target and actual auc\n",
        "for i in range(len(xkde[:-1])):\n",
        "    area = auc(xkde[i:], kde[i:])\n",
        "    gradient[i] = abs(area-target_auc)\n",
        "\n",
        "# find the index where the gradient is smallest\n",
        "idx = index[gradient == gradient.min()][0]"
      ],
      "id": "20e3437d",
      "execution_count": null,
      "outputs": []
    },
    {
      "cell_type": "code",
      "metadata": {},
      "source": [
        "#| code-fold: true\n",
        "# plot the gradient\n",
        "fig, ax = plt.subplots(1,2,figsize=(20*ps.cm, 6*ps.cm), constrained_layout=True)\n",
        "ax[0].plot(xkde, kde, c=\"k\")\n",
        "ax[0].fill_between(xkde[idx:], np.zeros_like(xkde[idx:]), kde[idx:], zorder=-10, alpha=0.8)\n",
        "ax[0].set_title(\"Area under PDF\")\n",
        "ax[0].set_ylabel(\"PDF\")\n",
        "ax[1].plot(xkde[:-1], gradient, c=\"k\")\n",
        "ax[1].scatter(xkde[idx], gradient[idx], zorder=10)\n",
        "ax[1].set_title(\"Difference gradient\")\n",
        "ax[1].set_ylabel(\"AUC-thresh\")\n",
        "fig.supxlabel(\"Spearman correlation\", fontsize=14)"
      ],
      "id": "43fa8c12",
      "execution_count": null,
      "outputs": []
    },
    {
      "cell_type": "markdown",
      "metadata": {},
      "source": [
        "The correlation threshold is now the value on the x-axis at the computed index.\n"
      ],
      "id": "2e1c23a7"
    },
    {
      "cell_type": "code",
      "metadata": {},
      "source": [
        "thresh = xkde[idx]"
      ],
      "id": "169ac831",
      "execution_count": null,
      "outputs": []
    },
    {
      "cell_type": "markdown",
      "metadata": {},
      "source": [
        "Now we can use this value to threshold the correlations and return the dffs for the \"active\" ROIs. \n",
        "\n",
        "Before we do this, we first compute the means for a single time series across trials. This is the data which we will continue to use to narrow down a cells selectivity. Using the means across repeats emphasized correlated activity and smoothes randomness.\n",
        "\n",
        "In a next step, we get the dffs for these ROIs.\n"
      ],
      "id": "575c2cbe"
    },
    {
      "cell_type": "code",
      "metadata": {},
      "source": [
        "# get the rois\n",
        "d.thresh_mean_rois = fs.thresh_correlations(d.corrs, thresh)\n",
        "\n",
        "# compute mean across trials\n",
        "d.repeat_means()\n",
        "\n",
        "# get the dffs\n",
        "d.active_meanmean_dffs = np.array([d.meanstack_mean_dffs[int(roi), :] for roi in d.thresh_mean_rois[:,0]])\n",
        "\n",
        "d.active_mean_dffs = np.array([d.mean_dffs[int(roi), :] for roi in d.thresh_mean_rois[:,0]])"
      ],
      "id": "3dcf4348",
      "execution_count": null,
      "outputs": []
    },
    {
      "cell_type": "markdown",
      "metadata": {},
      "source": [
        "Now lets plot a raster plot of our thresholded data.\n"
      ],
      "id": "8ec919cc"
    },
    {
      "cell_type": "code",
      "metadata": {},
      "source": [
        "#| code-fold: true\n",
        "\n",
        "# take only first repeat\n",
        "idx = np.arange(d.inx_mean[0][0], d.inx_mean[0][1])\n",
        "\n",
        "# encode the stimulus\n",
        "\n",
        "# luminance contrast: max(all)_stripe1 - max(all)_stripe2\n",
        "stripe1 = np.array([np.max(x) for x in d.rgb_1])\n",
        "stripe2 = np.array([np.max(x) for x in d.rgb_2])\n",
        "lum_contr = abs(stripe1-stripe2)[d.inx_mean[0][0]:d.inx_mean[0][1]]\n",
        "\n",
        "# color contrast: red_stripe1 - red_stripe2 (for red and green)\n",
        "red = np.array(\n",
        "    [abs(x[0]-y[0]) for x, y in zip(d.rgb_1, d.rgb_2)]\n",
        ")[d.inx_mean[0][0]:d.inx_mean[0][1]]\n",
        "\n",
        "reds = np.empty((len(d.active_meanmean_dffs[:, 0]), len(red)))\n",
        "for i in range(len(reds[:, 0])):\n",
        "    reds[i, :] = red\n",
        "\n",
        "green = np.array(\n",
        "    [abs(x[1]-y[1]) for x, y in zip(d.rgb_1, d.rgb_2)]\n",
        ")[d.inx_mean[0][0]:d.inx_mean[0][1]]\n",
        "\n",
        "greens = np.empty((len(d.active_meanmean_dffs[:, 0]), len(green)))\n",
        "for i in range(len(greens[:, 0])):\n",
        "    greens[i, :] = green\n",
        "\n",
        "# make no rot = 0, counterclock = -1, clockwise = 1\n",
        "ang_veloc = d.ang_velocs[1:-1][d.inx_mean[0][0]:d.inx_mean[0][1]]\n",
        "norots = np.full(len(d.ang_velocs), np.nan)\n",
        "leftrots = np.full(len(d.ang_velocs), np.nan)\n",
        "rightrots = np.full(len(d.ang_velocs), np.nan)\n",
        "\n",
        "for i, rot in enumerate(d.ang_velocs):\n",
        "    if rot > 0.0:\n",
        "        rightrots[i] = 0\n",
        "    elif rot == 0.0:\n",
        "        norots[i] = 0\n",
        "    else:\n",
        "        leftrots[i] = 0\n",
        "\n",
        "lum_img = np.empty((len(d.thresh_mean_rois[0]), len(lum_contr)))\n",
        "for i in range(len(lum_img[:, 0])):\n",
        "    lum_img[i, :] = lum_contr\n",
        "\n",
        "# plot the raster\n",
        "fig, ax = plt.subplots(5, 1,\n",
        "                       figsize=(24*ps.cm, 24*ps.cm),\n",
        "                       gridspec_kw={'height_ratios': [10, 0.2, 0.2, 0.2, 0.5]},\n",
        "                       sharex=True,\n",
        "                       )\n",
        "\n",
        "extent = (np.min(d.meanstack_mean_times), np.max(d.meanstack_mean_times), 0, len(d.active_meanmean_dffs))\n",
        "\n",
        "ax[0].imshow(d.active_meanmean_dffs, cmap=\"binary\", aspect=\"auto\", extent=extent, origin=\"upper\", interpolation=\"none\")\n",
        "\n",
        "\n",
        "# plot contrast\n",
        "ax[1].imshow(lum_img,\n",
        "             cmap=\"binary\",\n",
        "             alpha=1,\n",
        "             aspect=\"auto\",\n",
        "             extent=extent,\n",
        "             interpolation=\"none\",\n",
        "             )\n",
        "ax[2].imshow(reds,\n",
        "             cmap=\"Reds\",\n",
        "             aspect=\"auto\",\n",
        "             extent=extent,\n",
        "             interpolation=\"none\",\n",
        "             )\n",
        "ax[3].imshow(greens,\n",
        "             cmap=\"Greens\",\n",
        "             aspect=\"auto\",\n",
        "             extent=extent,\n",
        "             interpolation=\"none\",\n",
        "             )\n",
        "\n",
        "ax[4].scatter(d.mean_times[idx]+(d.mean_times[idx][1]-d.mean_times[idx][0]) / 2, norots[idx], marker=\"_\", color=\"k\")\n",
        "\n",
        "ax[4].scatter(d.mean_times[idx]+(d.mean_times[idx][1]-d.mean_times[idx][0]) / 2, leftrots[idx], marker=\"<\", color=\"k\")\n",
        "\n",
        "ax[4].scatter(d.mean_times[idx]+(d.mean_times[idx][1]-d.mean_times[idx][0]) / 2, rightrots[idx], marker=\">\", color=\"k\")\n",
        "\n",
        "ps.hide_helper_xax(ax[1])\n",
        "ps.hide_helper_xax(ax[2])\n",
        "ps.hide_helper_xax(ax[3])\n",
        "\n",
        "ax[0].set_xlim(np.min(d.mean_times[idx]), np.max(d.mean_times[idx]))\n",
        "\n",
        "# remove upper and right axis\n",
        "ax[0].spines[\"right\"].set_visible(False)\n",
        "ax[0].spines[\"top\"].set_visible(False)\n",
        "ax[0].spines[\"bottom\"].set_visible(False)\n",
        "ax[4].spines[\"right\"].set_visible(False)\n",
        "ax[4].spines[\"top\"].set_visible(False)\n",
        "ax[4].spines[\"left\"].set_visible(False)\n",
        "ax[4].tick_params(left=False, labelleft=False)\n",
        "\n",
        "\n",
        "ax[4].set_xlabel(\"Time [s]\")\n",
        "ax[0].set_ylabel(\"ROI\")"
      ],
      "id": "a1d7c2bf",
      "execution_count": null,
      "outputs": []
    },
    {
      "cell_type": "markdown",
      "metadata": {},
      "source": [
        "We already see some repeated activity but now we want to narrow it down further to get cells that reacted to (i.e. are correlated with) some feature of the stimulus, such as motion direction and / or contrasts.\n",
        "\n",
        "## Finding motion selective cells\n",
        "\n",
        "To find selective cells, we first need to build a regressor from the stimulus data. As a first step, we build a regressor for **motion**, **counterclockwise rotation** and **clockwise rotation**.\n"
      ],
      "id": "b8d963cf"
    },
    {
      "cell_type": "code",
      "metadata": {},
      "source": [
        "# motion regressor\n",
        "motion = np.array([1 if x != 0 else 0 for x in d.ang_velocs])\n",
        "\n",
        "# clockwise motion regressor\n",
        "clock = np.array([1 if x > 0 else 0 for x in d.ang_velocs])\n",
        "\n",
        "# counterclockwise motion regressor\n",
        "cclock = np.array([1 if x < 0 else 0 for x in d.ang_velocs])"
      ],
      "id": "a4433bd5",
      "execution_count": null,
      "outputs": []
    },
    {
      "cell_type": "markdown",
      "metadata": {},
      "source": [
        "We now have arrays that we can use to correlate with our calcium activity, i.e. the dffs for each ROI.\n"
      ],
      "id": "9385fce5"
    },
    {
      "cell_type": "code",
      "metadata": {},
      "source": [
        "corr_motion = np.array([pearsonr(x, motion)[0] for x in d.active_mean_dffs])\n",
        "\n",
        "corr_clock = np.array([pearsonr(x, clock)[0] for x in d.active_mean_dffs])\n",
        "\n",
        "corr_cclock = np.array([pearsonr(x, cclock)[0] for x in d.active_mean_dffs])"
      ],
      "id": "4f8ca7ec",
      "execution_count": null,
      "outputs": []
    },
    {
      "cell_type": "markdown",
      "metadata": {},
      "source": [
        "Now we can plot the distribution of the correlation coefficients.\n"
      ],
      "id": "7a7cf041"
    },
    {
      "cell_type": "code",
      "metadata": {},
      "source": [
        "#| code-fold: true\n",
        "fig, ax = plt.subplots(1,3, figsize=(20*ps.cm, 10*ps.cm), sharex=True, sharey=True, constrained_layout=True)\n",
        "ax[0].hist(corr_motion, bins=40, range=(-0.6,0.6))\n",
        "ax[1].hist(corr_clock, bins=40, range=(-0.6,0.6))\n",
        "ax[2].hist(corr_cclock, bins=40, range=(-0.6,0.6))\n",
        "ax[0].set_title(\"motion\")\n",
        "ax[1].set_title(\"clockw.\")\n",
        "ax[2].set_title(\"counterclockw.\")\n",
        "fig.supxlabel(\"Spearman correlation\", fontsize=14)\n",
        "fig.supylabel(\"Count\", fontsize=14)"
      ],
      "id": "c373d268",
      "execution_count": null,
      "outputs": []
    },
    {
      "cell_type": "markdown",
      "metadata": {},
      "source": [
        "Since this does not look so promising, we'll include the contrasts in our regressors. If the contrast was low but the motion was on, we expect to see no cells reacting. But this condition is still included in our current regressors. This is fixed once we include contrasts.\n",
        "\n",
        "## Finding contrast selective cells\n",
        "\n",
        "To include contrast, we first need to calculate the achromatic contrast and the contrast for the red and green color channel seperately.\n",
        "Instead of already combining contrast and motion, we first want to see the correlation between the contrasts and the calcium activity excluding motion.\n"
      ],
      "id": "b24a1fc8"
    },
    {
      "cell_type": "code",
      "metadata": {},
      "source": [
        "# make empty lists for contrasts\n",
        "red_contr = []\n",
        "green_contr = []\n",
        "acr_contr = []\n",
        "\n",
        "# iterate across channels and append chromatic contrasts\n",
        "for rgb1, rgb2 in zip(d.rgb_1, d.rgb_2):\n",
        "    if rgb2[1] == 0:\n",
        "        red_contr.append(rgb1[0])\n",
        "    else:\n",
        "        red_contr.append(0)\n",
        "    if rgb1[0] == 0:\n",
        "        green_contr.append(rgb2[1])\n",
        "    else:\n",
        "        green_contr.append(0)\n",
        "green_contr = np.array(green_contr)\n",
        "red_contr = np.array(red_contr)\n",
        "\n",
        "\n",
        "# make achromatic contrast as the difference between the sums of both stripes\n",
        "acr_contr = np.array([abs(np.sum(x)-np.sum(y)) for x, y in zip(d.rgb_1, d.rgb_2)])"
      ],
      "id": "1336a9ac",
      "execution_count": null,
      "outputs": []
    },
    {
      "cell_type": "markdown",
      "metadata": {},
      "source": [
        "Now we correlate the contrasts with the calcium data.\n"
      ],
      "id": "06370734"
    },
    {
      "cell_type": "code",
      "metadata": {},
      "source": [
        "corr_red = np.array([pearsonr(x, red_contr)[0] for x in d.active_mean_dffs])\n",
        "\n",
        "corr_green = np.array([pearsonr(x, green_contr)[0] for x in d.active_mean_dffs])\n",
        "\n",
        "corr_acr = np.array([pearsonr(x, acr_contr)[0] for x in d.active_mean_dffs])"
      ],
      "id": "a472adec",
      "execution_count": null,
      "outputs": []
    },
    {
      "cell_type": "code",
      "metadata": {},
      "source": [
        "#| code-fold: true\n",
        "fig, ax = plt.subplots(1,3, figsize=(20*ps.cm, 10*ps.cm), sharex=True, sharey=True, constrained_layout=True)\n",
        "ax[0].hist(corr_acr, bins=40, range=(-0.6,0.6))\n",
        "ax[1].hist(corr_red, bins=40, range=(-0.6,0.6))\n",
        "ax[2].hist(corr_green, bins=40, range=(-0.6,0.6))\n",
        "ax[0].set_title(\"achromatic\")\n",
        "ax[1].set_title(\"red\")\n",
        "ax[2].set_title(\"green\")\n",
        "fig.supxlabel(\"Spearman correlation\", fontsize=14)\n",
        "fig.supylabel(\"Count\", fontsize=14)"
      ],
      "id": "26e0a1d6",
      "execution_count": null,
      "outputs": []
    },
    {
      "cell_type": "markdown",
      "metadata": {},
      "source": [
        "## Finding motion selective cells by encoding contrast with motion\n",
        "\n",
        "We see that some cells might correlate with achromatic contrast. Does this hold up when we include motion into the regressor? In order to find motion sensitive cells instead of just contrast sensitive cells, we need to encode the motion including the contrast so that the motions with low contrasts are not represented as strong stimuli.\n"
      ],
      "id": "1415883a"
    },
    {
      "cell_type": "code",
      "metadata": {},
      "source": [
        "motions = [motion, clock, cclock]\n",
        "motions_string = [\"motion\", \"clock\", \"counterclock\"]\n",
        "contr = [acr_contr, red_contr, green_contr]\n",
        "contr_string = [\"achrom\", \"red\", \"green\"]\n",
        "\n",
        "fig, axs = plt.subplots(3,3, figsize=(20*ps.cm, 20*ps.cm), sharex=True, sharey=True, constrained_layout=True)\n",
        "\n",
        "for i1, m in enumerate(motions):\n",
        "  for i2, c in enumerate(contr):\n",
        "    reg = c*m\n",
        "    corr = np.array([pearsonr(x, reg)[0] for x in d.active_mean_dffs])\n",
        "    title = motions_string[i1] + '*' + contr_string[i2]\n",
        "    n, bins, patches = axs[i1, i2].hist(corr, bins=40, range=(-0.6,0.6))\n",
        "    axs[i1, i2].set_title(title)\n",
        "    # axs[i1, i2].set_ylim(0,1/3*np.max(n))\n",
        "fig.supxlabel('Spearman correlation')\n",
        "fig.supylabel('Count')"
      ],
      "id": "608e901c",
      "execution_count": null,
      "outputs": []
    },
    {
      "cell_type": "markdown",
      "metadata": {},
      "source": [
        "## Removing low contrasts to reduce the effect of flickering\n",
        "\n",
        "We still don't see clear correlations with the stimulus, which could be due to strong flickering of the video projector in the setup at low contrast levels. In a next step, we'll remove all stimulation phases with the 3 lowest contrast levels except 0 and redo our correlation analysis.\n"
      ],
      "id": "1812a0d0"
    },
    {
      "cell_type": "code",
      "metadata": {},
      "source": [
        "# make remove index\n",
        "remove_red = [True if x == 0 or x > 0.5 else False for x in red_contr]\n",
        "remove_green = [True if x == 0 or x > 0.5 else False for x in green_contr]\n",
        "remove = [True if x and y else False for x,y in zip(remove_red, remove_green)]"
      ],
      "id": "ef024ff0",
      "execution_count": null,
      "outputs": []
    },
    {
      "cell_type": "markdown",
      "metadata": {},
      "source": [
        "Now that we have a boolean index of the data points that we still want to inlcude, we have to index all arrays that go into the correlation with this index.\n",
        "\n",
        "We now have arrays that we can use to correlate with our calcium activity, i.e. the dffs for each ROI.\n"
      ],
      "id": "d476a349"
    },
    {
      "cell_type": "code",
      "metadata": {},
      "source": [
        "corr_motion = np.array([pearsonr(x[remove], motion[remove])[0] for x in d.active_mean_dffs])\n",
        "\n",
        "corr_clock = np.array([pearsonr(x[remove], clock[remove])[0] for x in d.active_mean_dffs])\n",
        "\n",
        "corr_cclock = np.array([pearsonr(x[remove], cclock[remove])[0] for x in d.active_mean_dffs])"
      ],
      "id": "93f866d5",
      "execution_count": null,
      "outputs": []
    },
    {
      "cell_type": "markdown",
      "metadata": {},
      "source": [
        "Now we can plot the distribution of the correlation coefficients.\n"
      ],
      "id": "283da0a4"
    },
    {
      "cell_type": "code",
      "metadata": {},
      "source": [
        "#| code-fold: true\n",
        "fig, ax = plt.subplots(1,3, figsize=(20*ps.cm, 10*ps.cm), sharex=True, sharey=True, constrained_layout=True)\n",
        "ax[0].hist(corr_motion, bins=40, range=(-0.6,0.6), facecolor='orange')\n",
        "ax[1].hist(corr_clock, bins=40, range=(-0.6,0.6), facecolor='orange')\n",
        "ax[2].hist(corr_cclock, bins=40, range=(-0.6,0.6), facecolor='orange')\n",
        "ax[0].set_title(\"motion\")\n",
        "ax[1].set_title(\"clockw.\")\n",
        "ax[2].set_title(\"counterclockw.\")\n",
        "fig.supxlabel(\"Spearman correlation\", fontsize=14)\n",
        "fig.supylabel(\"Count\", fontsize=14)"
      ],
      "id": "7935aab2",
      "execution_count": null,
      "outputs": []
    },
    {
      "cell_type": "code",
      "metadata": {},
      "source": [
        "corr_red = np.array([pearsonr(x[remove], red_contr[remove])[0] for x in d.active_mean_dffs])\n",
        "\n",
        "corr_green = np.array([pearsonr(x[remove], green_contr[remove])[0] for x in d.active_mean_dffs])\n",
        "\n",
        "corr_acr = np.array([pearsonr(x[remove], acr_contr[remove])[0] for x in d.active_mean_dffs])"
      ],
      "id": "50a994b9",
      "execution_count": null,
      "outputs": []
    },
    {
      "cell_type": "markdown",
      "metadata": {},
      "source": [
        "First we plot the correlation between the contrasts.\n"
      ],
      "id": "827c62d4"
    },
    {
      "cell_type": "code",
      "metadata": {},
      "source": [
        "#| code-fold: true\n",
        "fig, ax = plt.subplots(1,3, figsize=(20*ps.cm, 10*ps.cm), sharex=True, sharey=True, constrained_layout=True)\n",
        "ax[0].hist(corr_acr, bins=40, range=(-0.6,0.6), facecolor='orange')\n",
        "ax[1].hist(corr_red, bins=40, range=(-0.6,0.6), facecolor='orange')\n",
        "ax[2].hist(corr_green, bins=40, range=(-0.6,0.6), facecolor='orange')\n",
        "ax[0].set_title(\"achromatic\")\n",
        "ax[1].set_title(\"red\")\n",
        "ax[2].set_title(\"green\")\n",
        "fig.supxlabel(\"Spearman correlation\", fontsize=14)\n",
        "fig.supylabel(\"Count\", fontsize=14)"
      ],
      "id": "35a0660e",
      "execution_count": null,
      "outputs": []
    },
    {
      "cell_type": "markdown",
      "metadata": {},
      "source": [
        "Now we combine motions and contrast levels. We would expect high correlation coefficients for motion directions and achromatic contrasts.\n"
      ],
      "id": "3a71ef17"
    },
    {
      "cell_type": "code",
      "metadata": {},
      "source": [
        "motions = [motion[remove], clock[remove], cclock[remove]]\n",
        "motions_string = [\"motion\", \"clock\", \"counterclock\"]\n",
        "contr = [acr_contr[remove], red_contr[remove], green_contr[remove]]\n",
        "contr_string = [\"achrom\", \"red\", \"green\"]\n",
        "\n",
        "fig, axs = plt.subplots(3,3, figsize=(20*ps.cm, 20*ps.cm), sharex=True, sharey=True, constrained_layout=True)\n",
        "\n",
        "for i1, m in enumerate(motions):\n",
        "  for i2, c in enumerate(contr):\n",
        "    reg = c*m\n",
        "    corr = np.array([pearsonr(x[remove], reg)[0] for x in d.active_mean_dffs])\n",
        "    title = motions_string[i1] + '*' + contr_string[i2]\n",
        "    n, bins, patches = axs[i1, i2].hist(corr, bins=40, range=(-0.6,0.6), facecolor='orange')\n",
        "    axs[i1, i2].set_title(title)\n",
        "    # axs[i1, i2].set_ylim(0,1/3*np.max(n))\n",
        "fig.supxlabel('Spearman correlation')\n",
        "fig.supylabel('Count')"
      ],
      "id": "2e9250ab",
      "execution_count": null,
      "outputs": []
    },
    {
      "cell_type": "markdown",
      "metadata": {},
      "source": [
        "## Plot the stimulus and ROI for thresholded correlation coefficient\n",
        "\n",
        "Since the histograms do not reflect the correlations we expected, we choose a threshold and plot the strongly correlated calcium activities on top of the stimulus.\n"
      ],
      "id": "5f6edfd3"
    },
    {
      "cell_type": "code",
      "metadata": {},
      "source": [
        "# build stimulus\n",
        "clock_acr = motions[1] * contr[0]\n",
        "cclock_acr = motions[2] * contr[0]\n",
        "\n",
        "# correlate\n",
        "corr_clock_acr = [pearsonr(clock_acr, x[remove]) for x in d.active_mean_dffs]\n",
        "corr_cclock_acr = [pearsonr(cclock_acr, x[remove]) for x in d.active_mean_dffs]\n",
        "\n",
        "# threshold\n"
      ],
      "id": "c82d82cc",
      "execution_count": null,
      "outputs": []
    }
  ],
  "metadata": {
    "kernelspec": {
      "name": "python3",
      "language": "python",
      "display_name": "Python 3 (ipykernel)"
    }
  },
  "nbformat": 4,
  "nbformat_minor": 5
}
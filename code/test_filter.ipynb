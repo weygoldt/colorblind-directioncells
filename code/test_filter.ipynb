{
 "cells": [
  {
   "cell_type": "code",
   "execution_count": 1,
   "metadata": {},
   "outputs": [
    {
     "name": "stderr",
     "output_type": "stream",
     "text": [
      "/home/weygoldt/Data/uni/neuro_gp/calciumimaging/testcode/modules/functions.py:10: TqdmExperimentalWarning: Using `tqdm.autonotebook.tqdm` in notebook mode. Use `tqdm.tqdm` instead to force console mode (e.g. in jupyter console)\n",
      "  from tqdm.autonotebook import tqdm\n"
     ]
    },
    {
     "name": "stdout",
     "output_type": "stream",
     "text": [
      "\n"
     ]
    },
    {
     "data": {
      "application/vnd.jupyter.widget-view+json": {
       "model_id": "92241945e9d743448ad4f0b1f5099594",
       "version_major": 2,
       "version_minor": 0
      },
      "text/plain": [
       "\u001b[92m\u001b[1m[ roimatrix.__init__ ]\u001b[0m Loading data ...:   0%|          | 0/7 [00:00<?, ?it/s]"
      ]
     },
     "metadata": {},
     "output_type": "display_data"
    }
   ],
   "source": [
    "import numpy as np \n",
    "import matplotlib.pyplot as plt\n",
    "import modules.functions as fs\n",
    "\n",
    "from modules.termcolors import TermColor as tc\n",
    "from modules.plotstyle import PlotStyle\n",
    "from modules.dataloader import all_rois\n",
    "from vxtools.summarize.structure import SummaryFile\n",
    "\n",
    "%matplotlib qt\n",
    "\n",
    "dataroot = '../data/'\n",
    "f = SummaryFile(dataroot + 'Summary.hdf5')\n",
    "good_recs = [5,8,9,10,11,13,14]\n",
    "d = all_rois(f, good_recs)"
   ]
  },
  {
   "cell_type": "code",
   "execution_count": 2,
   "metadata": {},
   "outputs": [],
   "source": [
    "fig, ax = plt.subplots()\n",
    "for i, dff in enumerate(d.dffs[:1]):\n",
    "    ax.plot(dff+i)"
   ]
  },
  {
   "cell_type": "code",
   "execution_count": 5,
   "metadata": {},
   "outputs": [
    {
     "name": "stdout",
     "output_type": "stream",
     "text": [
      "10.0\n",
      "[0.35888715 0.38873689 0.41858662 0.4352567  0.40085207 0.36644744\n",
      " 0.33204281 0.29763818 0.25978552 0.21794256 0.17609961 0.13425665\n",
      " 0.09241369 0.07287835 0.11509471 0.15731108 0.19952744 0.24174381\n",
      " 0.23554644 0.22483995 0.21413345 0.20342696 0.19272047 0.23141115\n",
      " 0.27455237 0.3176936  0.36083483 0.40397606 0.42599839 0.44115964]\n",
      "[-0.085742   -0.09114663 -0.09715391 -0.10427589 -0.11273733 -0.12233014\n",
      " -0.13266294 -0.14335586 -0.15402108 -0.16422751 -0.17349197 -0.18130089\n",
      " -0.18711803 -0.19046389 -0.19123892 -0.18987715 -0.18702228 -0.18329472\n",
      " -0.17911084 -0.17448124 -0.16918361 -0.16296751 -0.1555682  -0.14689681\n",
      " -0.13725085 -0.127142   -0.11709222 -0.10762441 -0.09918744 -0.09205308]\n"
     ]
    },
    {
     "data": {
      "text/plain": [
       "[<matplotlib.lines.Line2D at 0x7fd80db43d00>]"
      ]
     },
     "execution_count": 5,
     "metadata": {},
     "output_type": "execute_result"
    }
   ],
   "source": [
    "dff = d.dffs[0][:-2]\n",
    "time = d.times[:-2]\n",
    "rate = 1/(d.times[1]-d.times[0])\n",
    "cutoffl = 0.001\n",
    "cutoffh = 0.2\n",
    "\n",
    "filt_dff = fs.bandpass_filter(dff, rate, cutoffl, cutoffh)\n",
    "\n",
    "print(rate)\n",
    "print(dff[:30])\n",
    "print(filt_dff[:30])\n",
    "\n",
    "plt.plot(time, dff)\n",
    "plt.plot(time, filt_dff+abs(np.min(filt_dff)))\n"
   ]
  },
  {
   "cell_type": "code",
   "execution_count": 8,
   "metadata": {},
   "outputs": [
    {
     "data": {
      "text/plain": [
       "(0.0, 1.0)"
      ]
     },
     "execution_count": 8,
     "metadata": {},
     "output_type": "execute_result"
    }
   ],
   "source": [
    "cutoffl = 0.001\n",
    "cutoffh = 0.1\n",
    "\n",
    "fig, ax = plt.subplots(6,3,figsize=(20,10), sharex=True, sharey=True, constrained_layout=True)\n",
    "\n",
    "for i in range(6):\n",
    "    dff = d.dffs[i][:-10]\n",
    "    time = d.times[:-10]\n",
    "    zscore = d.zscores[i][:-10]\n",
    "\n",
    "    filt = fs.bandpass_filter(dff, rate, cutoffl, cutoffh) #filter\n",
    "    filt = (filt - filt.min()) / (filt.max() - filt.min()) # norm again \n",
    "\n",
    "    ax[i,0].plot(time, dff) \n",
    "    ax[i,1].plot(time, filt+abs(np.min(filt)))\n",
    "    ax[i,2].plot(time, zscore)\n",
    "\n",
    "ax[0,0].set_ylim(0,1)"
   ]
  },
  {
   "cell_type": "code",
   "execution_count": 12,
   "metadata": {},
   "outputs": [],
   "source": [
    "fig, ax = plt.subplots(10,1, figsize=(20,10), sharex=True, sharey=True, constrained_layout=True)\n",
    "for i in range(10):\n",
    "    time = d.times[:-10]\n",
    "    zscore = d.zscores[i][:-10]\n",
    "    ax[i].plot(time, zscore)"
   ]
  },
  {
   "cell_type": "code",
   "execution_count": null,
   "metadata": {},
   "outputs": [],
   "source": []
  }
 ],
 "metadata": {
  "kernelspec": {
   "display_name": "Python 3.10.8 ('env': venv)",
   "language": "python",
   "name": "python3"
  },
  "language_info": {
   "codemirror_mode": {
    "name": "ipython",
    "version": 3
   },
   "file_extension": ".py",
   "mimetype": "text/x-python",
   "name": "python",
   "nbconvert_exporter": "python",
   "pygments_lexer": "ipython3",
   "version": "3.10.8"
  },
  "orig_nbformat": 4,
  "vscode": {
   "interpreter": {
    "hash": "e65e7c3bb8f4cd8ac4466211b53c2585547d1a3ad2ae823f41b00d31837db2fb"
   }
  }
 },
 "nbformat": 4,
 "nbformat_minor": 2
}

{
  "cells": [
    {
      "cell_type": "raw",
      "metadata": {},
      "source": [
        "---\n",
        "title: Finding active ROIs\n",
        "format:\n",
        "  html:\n",
        "    code-fold: false\n",
        "    theme:\n",
        "      light: flatly\n",
        "      dark: darkly\n",
        "---"
      ]
    },
    {
      "cell_type": "code",
      "execution_count": null,
      "metadata": {},
      "outputs": [],
      "source": [
        "# load essential packages\n",
        "import os\n",
        "import matplotlib.pyplot as plt\n",
        "import numpy as np\n",
        "import modules.functions as fs\n",
        "from dataclasses import dataclass\n",
        "from vxtools.summarize.structure import SummaryFile\n",
        "from sklearn.metrics import auc\n",
        "from IPython import embed\n",
        "from scipy.stats import pearsonr\n",
        "from modules.dataloader import all_rois\n",
        "from modules.plotstyle import PlotStyle\n",
        "\n",
        "ps = PlotStyle()"
      ]
    },
    {
      "cell_type": "markdown",
      "metadata": {},
      "source": [
        "## Importing the data\n",
        "\n",
        "To filter all ROIs for the ones that reacted to our stimulus, we first have to load the data."
      ]
    },
    {
      "cell_type": "code",
      "execution_count": null,
      "metadata": {},
      "outputs": [],
      "source": [
        "# now load the data\n",
        "f = SummaryFile('../data/Summary.hdf5')\n",
        "\n",
        "# now select the recordings that were good\n",
        "good_recs = [5, 8, 9, 10, 11, 13, 14]#\n",
        "# good_recs = [5, 14]\n",
        "\n",
        "# load matrix of all rois of all layers with good rois\n",
        "d = all_rois(f, good_recs)\n"
      ]
    },
    {
      "cell_type": "markdown",
      "metadata": {},
      "source": [
        "As described in the [loading_data](loading_data.qmd) notebook, we can now compute the means for all dff time series in each stimulation window."
      ]
    },
    {
      "cell_type": "code",
      "execution_count": null,
      "metadata": {},
      "outputs": [],
      "source": [
        "datapath = \"../data/\"\n",
        "dataname = \"mean_dffs.npy\"\n",
        "timename = \"mean_times.npy\"\n",
        "\n",
        "if os.path.exists(datapath+dataname) == False:\n",
        "    d.stimulus_means()\n",
        "    np.save(datapath+dataname, d.mean_dffs)\n",
        "    np.save(datapath+timename, d.mean_times)\n",
        "else:\n",
        "    d.mean_dffs = np.load(datapath+dataname)\n",
        "    d.mean_times = np.load(datapath+timename)"
      ]
    },
    {
      "cell_type": "markdown",
      "metadata": {},
      "source": [
        "## Computing autocorrelation\n",
        "\n",
        "Now we can compute the autocorrelation of each time series to quantify how well a cell (i.e. a single ROI) responds to the stimulation - and sort the ROIs by their correlation coefficient."
      ]
    },
    {
      "cell_type": "code",
      "execution_count": null,
      "metadata": {},
      "outputs": [],
      "source": [
        "d.sort_means_by_corr()"
      ]
    },
    {
      "cell_type": "markdown",
      "metadata": {},
      "source": [
        "Now that we have the correlation coefficients, we can sort all ROIs in out dataset (i.e. all dffs) by their correlation coefficient."
      ]
    },
    {
      "cell_type": "code",
      "execution_count": null,
      "metadata": {},
      "outputs": [],
      "source": [
        "#d.mean_dffs = np.array([d.mean_dffs[int(roi)] for roi in d.corrs[:,0]])"
      ]
    },
    {
      "cell_type": "markdown",
      "metadata": {},
      "source": [
        "## Thresholding the autocorrelation\n",
        "\n",
        "We use the means for each stimulation phase since the temporal resolution is not needed at this point and it is much easier to work with the means.\n",
        "\n",
        "Before we threshold the autocorrelation, we look at a distribution of them by computing a histogram and estimate the probability density function using a gaussian kernel."
      ]
    },
    {
      "cell_type": "code",
      "execution_count": null,
      "metadata": {},
      "outputs": [],
      "source": [
        "# make a histpgram\n",
        "counts, edges = np.histogram(d.corrs[:, 1], bins=50, density=True)\n",
        "\n",
        "# compute a gaussian KDE\n",
        "xkde, kde = fs.kde1d(d.corrs[:, 1], 0.02, xlims=[edges.min(), edges.max()])"
      ]
    },
    {
      "cell_type": "markdown",
      "metadata": {},
      "source": [
        "Now we plot the results."
      ]
    },
    {
      "cell_type": "code",
      "execution_count": null,
      "metadata": {},
      "outputs": [],
      "source": [
        "#| code-fold: true\n",
        "fig, ax = plt.subplots(figsize=(20*ps.cm, 12*ps.cm))\n",
        "ax.bar(edges[:-1], counts, width=np.diff(edges),edgecolor=\"white\", facecolor=\"k\", alpha=0.2,linewidth=0, align=\"edge\", zorder=20)\n",
        "ax.plot(xkde, kde, zorder=10, c=\"k\")\n",
        "ax.axvline([0], lw=1, ls=\"dashed\", c=\"k\")\n",
        "ax.set_xlabel(\"Correlation\")\n",
        "ax.set_ylabel(\"Probability density\")"
      ]
    },
    {
      "cell_type": "markdown",
      "metadata": {},
      "source": [
        "Instead of implementing a fixed correlation coefficient as a threshold, we can instead use an integral of the proabability density function, to get the correlation coefficients that occur with a probability of $\\alpha = 0.05$ or less.\n",
        "\n",
        "Since we are only insterested in strong positive correlations, we can integrate (compute the area under curve, the AUC)between a value on the x axis and the maximum correlation coefficient."
      ]
    },
    {
      "cell_type": "code",
      "execution_count": null,
      "metadata": {},
      "outputs": [],
      "source": [
        "target_auc = 0.2 # probability threshold\n",
        "\n",
        "# create empty arrays for the gradient and index\n",
        "gradient = np.zeros_like(xkde[:-1])\n",
        "index = np.arange(len(xkde[:-1]))\n",
        "\n",
        "# compute the gradient between the target and actual auc\n",
        "for i in range(len(xkde[:-1])):\n",
        "    area = auc(xkde[i:], kde[i:])\n",
        "    gradient[i] = abs(area-target_auc)\n",
        "\n",
        "# find the index where the gradient is smallest\n",
        "idx = index[gradient == gradient.min()][0]"
      ]
    },
    {
      "cell_type": "code",
      "execution_count": null,
      "metadata": {},
      "outputs": [],
      "source": [
        "#| code-fold: true\n",
        "# plot the gradient\n",
        "fig, ax = plt.subplots(1,2,figsize=(20*ps.cm, 12*ps.cm), constrained_layout=True)\n",
        "ax[0].plot(xkde, kde, c=\"k\")\n",
        "ax[0].fill_between(xkde[idx:], np.zeros_like(xkde[idx:]), kde[idx:], zorder=-10, alpha=0.8)\n",
        "ax[0].set_title(\"Area under PDF\")\n",
        "ax[0].set_ylabel(\"PDF\")\n",
        "ax[1].plot(xkde[:-1], gradient, c=\"k\")\n",
        "ax[1].scatter(xkde[idx], gradient[idx], zorder=10)\n",
        "ax[1].set_title(\"Difference gradient\")\n",
        "ax[1].set_ylabel(\"AUC-thresh\")\n",
        "fig.supxlabel(\"Spearman correlation\", fontsize=14)"
      ]
    },
    {
      "cell_type": "markdown",
      "metadata": {},
      "source": [
        "The correlation threshold is now the value on the x-axis at the computed index."
      ]
    },
    {
      "cell_type": "code",
      "execution_count": null,
      "metadata": {},
      "outputs": [],
      "source": [
        "thresh = xkde[idx]"
      ]
    },
    {
      "cell_type": "markdown",
      "metadata": {},
      "source": [
        "Now we can use this value to threshold the correlations and return the dffs for the \"active\" ROIs. \n",
        "\n",
        "Before we do this, we first compute the means for a single time series across trials. This is the data which we will continue to use to narrow down a cells selectivity. Using the means across repeats emphasized correlated activity and smoothes randomness.\n",
        "\n",
        "In a next step, we get the dffs for these ROIs."
      ]
    },
    {
      "cell_type": "code",
      "execution_count": null,
      "metadata": {},
      "outputs": [],
      "source": [
        "# get the rois\n",
        "d.thresh_mean_rois = fs.thresh_correlations(d.corrs, thresh)\n",
        "\n",
        "# compute mean across trials\n",
        "d.repeat_means()\n",
        "\n",
        "# get the phase and repeat mean dffs\n",
        "d.active_meanmean_dffs = np.array([d.meanstack_mean_dffs[int(roi), :] for roi in d.thresh_mean_rois[:,0]])\n",
        "\n",
        "# get the phase mean dff\n",
        "d.active_mean_dffs = np.array([d.mean_dffs[int(roi), :] for roi in d.thresh_mean_rois[:,0]])\n",
        "\n",
        "# get their rois as well\n",
        "d.active_mean_rois = np.array([d.index_rois[int(roi)] for roi in d.thresh_mean_rois[:,0]])\n",
        "\n",
        "# ... and the recording they came from\n",
        "d.active_mean_recs = np.array([d.index_recs[int(roi)] for roi in d.thresh_mean_rois[:,0]])"
      ]
    },
    {
      "cell_type": "markdown",
      "metadata": {},
      "source": [
        "Now lets plot a raster plot of our thresholded data."
      ]
    },
    {
      "cell_type": "code",
      "execution_count": null,
      "metadata": {},
      "outputs": [],
      "source": [
        "#| code-fold: true\n",
        "\n",
        "# take only first repeat\n",
        "idx = np.arange(d.inx_mean[0][0], d.inx_mean[0][1])\n",
        "\n",
        "# encode the stimulus\n",
        "\n",
        "# luminance contrast: max(all)_stripe1 - max(all)_stripe2\n",
        "stripe1 = np.array([np.max(x) for x in d.rgb_1])\n",
        "stripe2 = np.array([np.max(x) for x in d.rgb_2])\n",
        "lum_contr = abs(stripe1-stripe2)[d.inx_mean[0][0]:d.inx_mean[0][1]]\n",
        "\n",
        "# color contrast: red_stripe1 - red_stripe2 (for red and green)\n",
        "red = np.array(\n",
        "    [abs(x[0]-y[0]) for x, y in zip(d.rgb_1, d.rgb_2)]\n",
        ")[d.inx_mean[0][0]:d.inx_mean[0][1]]\n",
        "\n",
        "reds = np.empty((len(d.active_meanmean_dffs[:, 0]), len(red)))\n",
        "for i in range(len(reds[:, 0])):\n",
        "    reds[i, :] = red\n",
        "\n",
        "green = np.array(\n",
        "    [abs(x[1]-y[1]) for x, y in zip(d.rgb_1, d.rgb_2)]\n",
        ")[d.inx_mean[0][0]:d.inx_mean[0][1]]\n",
        "\n",
        "greens = np.empty((len(d.active_meanmean_dffs[:, 0]), len(green)))\n",
        "for i in range(len(greens[:, 0])):\n",
        "    greens[i, :] = green\n",
        "\n",
        "# make no rot = 0, counterclock = -1, clockwise = 1\n",
        "ang_veloc = d.ang_velocs[1:-1][d.inx_mean[0][0]:d.inx_mean[0][1]]\n",
        "norots = np.full(len(d.ang_velocs), np.nan)\n",
        "leftrots = np.full(len(d.ang_velocs), np.nan)\n",
        "rightrots = np.full(len(d.ang_velocs), np.nan)\n",
        "\n",
        "for i, rot in enumerate(d.ang_velocs):\n",
        "    if rot > 0.0:\n",
        "        rightrots[i] = 0\n",
        "    elif rot == 0.0:\n",
        "        norots[i] = 0\n",
        "    else:\n",
        "        leftrots[i] = 0\n",
        "\n",
        "lum_img = np.empty((len(d.thresh_mean_rois[0]), len(lum_contr)))\n",
        "for i in range(len(lum_img[:, 0])):\n",
        "    lum_img[i, :] = lum_contr\n",
        "\n",
        "# plot the raster\n",
        "fig, ax = plt.subplots(5, 1,\n",
        "                       figsize=(24*ps.cm, 24*ps.cm),\n",
        "                       gridspec_kw={'height_ratios': [10, 0.2, 0.2, 0.2, 0.5]},\n",
        "                       sharex=True,\n",
        "                       )\n",
        "\n",
        "extent = (np.min(d.meanstack_mean_times), np.max(d.meanstack_mean_times), 0, len(d.active_meanmean_dffs))\n",
        "\n",
        "ax[0].imshow(d.active_meanmean_dffs, cmap=\"binary\", aspect=\"auto\", extent=extent, origin=\"upper\", interpolation=\"none\")\n",
        "\n",
        "\n",
        "# plot contrast\n",
        "ax[1].imshow(lum_img,\n",
        "             cmap=\"binary\",\n",
        "             alpha=1,\n",
        "             aspect=\"auto\",\n",
        "             extent=extent,\n",
        "             interpolation=\"none\",\n",
        "             )\n",
        "ax[2].imshow(reds,\n",
        "             cmap=\"Reds\",\n",
        "             aspect=\"auto\",\n",
        "             extent=extent,\n",
        "             interpolation=\"none\",\n",
        "             )\n",
        "ax[3].imshow(greens,\n",
        "             cmap=\"Greens\",\n",
        "             aspect=\"auto\",\n",
        "             extent=extent,\n",
        "             interpolation=\"none\",\n",
        "             )\n",
        "\n",
        "ax[4].scatter(d.mean_times[idx]+(d.mean_times[idx][1]-d.mean_times[idx][0]) / 2, norots[idx], marker=\"_\", color=\"k\")\n",
        "\n",
        "ax[4].scatter(d.mean_times[idx]+(d.mean_times[idx][1]-d.mean_times[idx][0]) / 2, leftrots[idx], marker=\"<\", color=\"k\")\n",
        "\n",
        "ax[4].scatter(d.mean_times[idx]+(d.mean_times[idx][1]-d.mean_times[idx][0]) / 2, rightrots[idx], marker=\">\", color=\"k\")\n",
        "\n",
        "ps.hide_helper_xax(ax[1])\n",
        "ps.hide_helper_xax(ax[2])\n",
        "ps.hide_helper_xax(ax[3])\n",
        "\n",
        "ax[0].set_xlim(np.min(d.mean_times[idx]), np.max(d.mean_times[idx]))\n",
        "\n",
        "# remove upper and right axis\n",
        "ax[0].spines[\"right\"].set_visible(False)\n",
        "ax[0].spines[\"top\"].set_visible(False)\n",
        "ax[0].spines[\"bottom\"].set_visible(False)\n",
        "ax[4].spines[\"right\"].set_visible(False)\n",
        "ax[4].spines[\"top\"].set_visible(False)\n",
        "ax[4].spines[\"left\"].set_visible(False)\n",
        "ax[4].tick_params(left=False, labelleft=False)\n",
        "\n",
        "\n",
        "ax[4].set_xlabel(\"Time [s]\")\n",
        "ax[0].set_ylabel(\"ROI\")"
      ]
    },
    {
      "cell_type": "markdown",
      "metadata": {},
      "source": [
        "We already see some repeated activity but now we want to narrow it down further to get cells that reacted to (i.e. are correlated with) some feature of the stimulus, such as motion direction and / or contrasts.\n",
        "\n",
        "## Finding motion selective cells\n",
        "\n",
        "To find selective cells, we first need to build a regressor from the stimulus data. As a first step, we build a regressor for **motion**, **counterclockwise rotation** and **clockwise rotation**."
      ]
    },
    {
      "cell_type": "code",
      "execution_count": null,
      "metadata": {},
      "outputs": [],
      "source": [
        "# motion regressor\n",
        "motion = np.array([1 if x != 0 else 0 for x in d.ang_velocs])\n",
        "\n",
        "# clockwise motion regressor\n",
        "clock = np.array([1 if x > 0 else 0 for x in d.ang_velocs])\n",
        "\n",
        "# counterclockwise motion regressor\n",
        "cclock = np.array([1 if x < 0 else 0 for x in d.ang_velocs])"
      ]
    },
    {
      "cell_type": "markdown",
      "metadata": {},
      "source": [
        "We now have arrays that we can use to correlate with our calcium activity, i.e. the dffs for each ROI."
      ]
    },
    {
      "cell_type": "code",
      "execution_count": null,
      "metadata": {},
      "outputs": [],
      "source": [
        "corr_motion = np.array([pearsonr(x, motion)[0] for x in d.active_mean_dffs])\n",
        "\n",
        "corr_clock = np.array([pearsonr(x, clock)[0] for x in d.active_mean_dffs])\n",
        "\n",
        "corr_cclock = np.array([pearsonr(x, cclock)[0] for x in d.active_mean_dffs])"
      ]
    },
    {
      "cell_type": "markdown",
      "metadata": {},
      "source": [
        "Now we can plot the distribution of the correlation coefficients."
      ]
    },
    {
      "cell_type": "code",
      "execution_count": null,
      "metadata": {},
      "outputs": [],
      "source": [
        "#| code-fold: true\n",
        "fig, ax = plt.subplots(1,3, figsize=(20*ps.cm, 12*ps.cm), sharex=True, sharey=True, constrained_layout=True)\n",
        "ax[0].hist(corr_motion, bins=40, range=(-0.8,0.8))\n",
        "ax[0].axvline(0, lw=1, linestyle='dashed', c='k')\n",
        "ax[1].hist(corr_clock, bins=40, range=(-0.8,0.8))\n",
        "ax[1].axvline(0, lw=1, linestyle='dashed', c='k')\n",
        "ax[2].hist(corr_cclock, bins=40, range=(-0.8,0.8))\n",
        "ax[2].axvline(0, lw=1, linestyle='dashed', c='k')\n",
        "ax[0].set_title(\"motion\")\n",
        "ax[1].set_title(\"clockw.\")\n",
        "ax[2].set_title(\"counterclockw.\")\n",
        "fig.supxlabel(\"Spearman correlation\", fontsize=14)\n",
        "fig.supylabel(\"Count\", fontsize=14)"
      ]
    },
    {
      "cell_type": "markdown",
      "metadata": {},
      "source": [
        "Since this does not look so promising, we'll include the contrasts in our regressors. If the contrast was low but the motion was on, we expect to see no cells reacting. But this condition is still included in our current regressors. This is fixed once we include contrasts.\n",
        "\n",
        "## Finding contrast selective cells\n",
        "\n",
        "To include contrast, we first need to calculate the achromatic contrast and the contrast for the red and green color channel seperately.\n",
        "Instead of already combining contrast and motion, we first want to see the correlation between the contrasts and the calcium activity excluding motion."
      ]
    },
    {
      "cell_type": "code",
      "execution_count": null,
      "metadata": {},
      "outputs": [],
      "source": [
        "# make empty lists for contrasts\n",
        "red_contr = []\n",
        "green_contr = []\n",
        "acr_contr = []\n",
        "\n",
        "for rgb1, rgb2 in zip(d.rgb_1, d.rgb_2):\n",
        "    red_contr.append(abs(rgb1[0]-rgb2[0]))\n",
        "    green_contr.append(abs(rgb1[1]-rgb2[1]))\n",
        "\n",
        "red_contr = np.array(red_contr)\n",
        "green_contr = np.array(green_contr)\n",
        "\n",
        "# iterate across channels and append chromatic contrasts\n",
        "# for rgb1, rgb2 in zip(d.rgb_1, d.rgb_2):\n",
        "#     if rgb2[1] == 0:\n",
        "#         red_contr.append(rgb1[0])\n",
        "#     else:\n",
        "#         red_contr.append(0)\n",
        "#     if rgb1[0] == 0:\n",
        "#         green_contr.append(rgb2[1])\n",
        "#     else:\n",
        "#         green_contr.append(0)\n",
        "# green_contr = np.array(green_contr)\n",
        "# red_contr = np.array(red_contr)\n",
        "\n",
        "\n",
        "# make achromatic contrast as the difference between the sums of both stripes\n",
        "acr_contr = np.array([abs(np.sum(x)-np.sum(y)) for x, y in zip(d.rgb_1, d.rgb_2)])"
      ]
    },
    {
      "cell_type": "markdown",
      "metadata": {},
      "source": [
        "Now we correlate the contrasts with the calcium data."
      ]
    },
    {
      "cell_type": "code",
      "execution_count": null,
      "metadata": {},
      "outputs": [],
      "source": [
        "corr_red = np.array([pearsonr(x, red_contr)[0] for x in d.active_mean_dffs])\n",
        "\n",
        "corr_green = np.array([pearsonr(x, green_contr)[0] for x in d.active_mean_dffs])\n",
        "\n",
        "corr_acr = np.array([pearsonr(x, acr_contr)[0] for x in d.active_mean_dffs])"
      ]
    },
    {
      "cell_type": "code",
      "execution_count": null,
      "metadata": {},
      "outputs": [],
      "source": [
        "#| code-fold: true\n",
        "fig, ax = plt.subplots(1,3, figsize=(20*ps.cm, 12*ps.cm), sharex=True, sharey=True, constrained_layout=True)\n",
        "ax[0].hist(corr_acr, bins=40, range=(-0.8,0.8))\n",
        "ax[0].axvline(0, lw=1, linestyle='dashed', c='k')\n",
        "ax[1].hist(corr_red, bins=40, range=(-0.8,0.8))\n",
        "ax[1].axvline(0, lw=1, linestyle='dashed', c='k')\n",
        "ax[2].hist(corr_green, bins=40, range=(-0.8,0.8))\n",
        "ax[2].axvline(0, lw=1, linestyle='dashed', c='k')\n",
        "ax[0].set_title(\"achromatic\")\n",
        "ax[1].set_title(\"red\")\n",
        "ax[2].set_title(\"green\")\n",
        "fig.supxlabel(\"Spearman correlation\", fontsize=14)\n",
        "fig.supylabel(\"Count\", fontsize=14)"
      ]
    },
    {
      "cell_type": "markdown",
      "metadata": {},
      "source": [
        "## Finding motion selective cells by encoding contrast with motion\n",
        "\n",
        "We see that some cells might correlate with achromatic contrast. Does this hold up when we include motion into the regressor? In order to find motion sensitive cells instead of just contrast sensitive cells, we need to encode the motion including the contrast so that the motions with low contrasts are not represented as strong stimuli."
      ]
    },
    {
      "cell_type": "code",
      "execution_count": null,
      "metadata": {},
      "outputs": [],
      "source": [
        "motions = [motion, clock, cclock]\n",
        "motions_string = [\"motion\", \"clock\", \"counterclock\"]\n",
        "contr = [acr_contr, red_contr, green_contr]\n",
        "contr_string = [\"achrom\", \"red\", \"green\"]\n",
        "\n",
        "fig, axs = plt.subplots(3,3, figsize=(20*ps.cm, 16*ps.cm), sharex=True, sharey=True, constrained_layout=True)\n",
        "\n",
        "for i1, m in enumerate(motions):\n",
        "  for i2, c in enumerate(contr):\n",
        "    reg = c*m\n",
        "    corr = np.array([pearsonr(x, reg)[0] for x in d.active_mean_dffs])\n",
        "    title = motions_string[i1] + '*' + contr_string[i2]\n",
        "    n, bins, patches = axs[i1, i2].hist(corr, bins=40, range=(-0.8,0.8))\n",
        "    axs[i1, i2].axvline(0, lw=1, linestyle='dashed', c='k')\n",
        "    axs[i1, i2].set_title(title)\n",
        "fig.supxlabel('Spearman correlation')\n",
        "fig.supylabel('Count')"
      ]
    },
    {
      "cell_type": "markdown",
      "metadata": {},
      "source": [
        "## Removing low contrasts to reduce the effect of flickering\n",
        "\n",
        "We still don't see clear correlations with the stimulus, which could be due to strong flickering of the video projector in the setup at low contrast levels. In a next step, we'll remove all stimulation phases with the 3 lowest contrast levels except 0 and redo our correlation analysis."
      ]
    },
    {
      "cell_type": "code",
      "execution_count": null,
      "metadata": {},
      "outputs": [],
      "source": [
        "# make remove index\n",
        "remove_red = [True if x == 0 or x > 0.5 else False for x in red_contr]\n",
        "remove_green = [True if x == 0 or x > 0.5 else False for x in green_contr]\n",
        "remove = [True if x and y else False for x,y in zip(remove_red, remove_green)]"
      ]
    },
    {
      "cell_type": "markdown",
      "metadata": {},
      "source": [
        "Now that we have a boolean index of the data points that we still want to inlcude, we have to index all arrays that go into the correlation with this index.\n",
        "\n",
        "We now have arrays that we can use to correlate with our calcium activity, i.e. the dffs for each ROI."
      ]
    },
    {
      "cell_type": "code",
      "execution_count": null,
      "metadata": {},
      "outputs": [],
      "source": [
        "corr_motion = np.array([pearsonr(x[remove], motion[remove])[0] for x in d.active_mean_dffs])\n",
        "\n",
        "corr_clock = np.array([pearsonr(x[remove], clock[remove])[0] for x in d.active_mean_dffs])\n",
        "\n",
        "corr_cclock = np.array([pearsonr(x[remove], cclock[remove])[0] for x in d.active_mean_dffs])"
      ]
    },
    {
      "cell_type": "markdown",
      "metadata": {},
      "source": [
        "Now we can plot the distribution of the correlation coefficients."
      ]
    },
    {
      "cell_type": "code",
      "execution_count": null,
      "metadata": {},
      "outputs": [],
      "source": [
        "#| code-fold: true\n",
        "fig, ax = plt.subplots(1,3, figsize=(20*ps.cm, 12*ps.cm), sharex=True, sharey=True, constrained_layout=True)\n",
        "ax[0].hist(corr_motion, bins=40, range=(-0.8,0.8), facecolor='orange')\n",
        "ax[0].axvline(0, lw=1, linestyle='dashed', c='k')\n",
        "ax[1].hist(corr_clock, bins=40, range=(-0.8,0.8), facecolor='orange')\n",
        "ax[1].axvline(0, lw=1, linestyle='dashed', c='k')\n",
        "ax[2].hist(corr_cclock, bins=40, range=(-0.8,0.8), facecolor='orange')\n",
        "ax[2].axvline(0, lw=1, linestyle='dashed', c='k')\n",
        "ax[0].set_title(\"motion\")\n",
        "ax[1].set_title(\"clockw.\")\n",
        "ax[2].set_title(\"counterclockw.\")\n",
        "fig.supxlabel(\"Spearman correlation\", fontsize=14)\n",
        "fig.supylabel(\"Count\", fontsize=14)"
      ]
    },
    {
      "cell_type": "code",
      "execution_count": null,
      "metadata": {},
      "outputs": [],
      "source": [
        "corr_red = np.array([pearsonr(x[remove], red_contr[remove])[0] for x in d.active_mean_dffs])\n",
        "\n",
        "corr_green = np.array([pearsonr(x[remove], green_contr[remove])[0] for x in d.active_mean_dffs])\n",
        "\n",
        "corr_acr = np.array([pearsonr(x[remove], acr_contr[remove])[0] for x in d.active_mean_dffs])"
      ]
    },
    {
      "cell_type": "markdown",
      "metadata": {},
      "source": [
        "First we plot the correlation between the contrasts."
      ]
    },
    {
      "cell_type": "code",
      "execution_count": null,
      "metadata": {},
      "outputs": [],
      "source": [
        "#| code-fold: true\n",
        "fig, ax = plt.subplots(1,3, figsize=(20*ps.cm, 12*ps.cm), sharex=True, sharey=True, constrained_layout=True)\n",
        "ax[0].hist(corr_acr, bins=40, range=(-0.8,0.8), facecolor='orange')\n",
        "ax[0].axvline(0, lw=1, linestyle='dashed', c='k')\n",
        "ax[1].hist(corr_red, bins=40, range=(-0.8,0.8), facecolor='orange')\n",
        "ax[1].axvline(0, lw=1, linestyle='dashed', c='k')\n",
        "ax[2].hist(corr_green, bins=40, range=(-0.8,0.8), facecolor='orange')\n",
        "ax[2].axvline(0, lw=1, linestyle='dashed', c='k')\n",
        "ax[0].set_title(\"achromatic\")\n",
        "ax[1].set_title(\"red\")\n",
        "ax[2].set_title(\"green\")\n",
        "fig.supxlabel(\"Spearman correlation\", fontsize=14)\n",
        "fig.supylabel(\"Count\", fontsize=14)"
      ]
    },
    {
      "cell_type": "markdown",
      "metadata": {},
      "source": [
        "Now we combine motions and contrast levels. We would expect high correlation coefficients for motion directions and achromatic contrasts."
      ]
    },
    {
      "cell_type": "code",
      "execution_count": null,
      "metadata": {},
      "outputs": [],
      "source": [
        "motions = [motion[remove], clock[remove], cclock[remove]]\n",
        "motions_string = [\"motion\", \"clock\", \"counterclock\"]\n",
        "contr = [acr_contr[remove], red_contr[remove], green_contr[remove]]\n",
        "contr_string = [\"achrom\", \"red\", \"green\"]\n",
        "\n",
        "fig, axs = plt.subplots(3,3, figsize=(20*ps.cm, 20*ps.cm), sharex=True, sharey=True, constrained_layout=True)\n",
        "\n",
        "for i1, m in enumerate(motions):\n",
        "  for i2, c in enumerate(contr):\n",
        "    reg = c*m\n",
        "    corr = np.array([pearsonr(x[remove], reg)[0] for x in d.active_mean_dffs])\n",
        "    title = motions_string[i1] + '*' + contr_string[i2]\n",
        "    n, bins, patches = axs[i1, i2].hist(corr, bins=40, range=(-0.8,0.8), facecolor='orange')\n",
        "    axs[i1, i2].set_title(title)\n",
        "    axs[i1, i2].axvline(0, lw=1, linestyle='dashed', c='k')\n",
        "    # axs[i1, i2].set_ylim(0,1/3*np.max(n))\n",
        "fig.supxlabel('Spearman correlation')\n",
        "fig.supylabel('Count')"
      ]
    },
    {
      "cell_type": "markdown",
      "metadata": {},
      "source": [
        "## Plot the stimulus and ROI for thresholded correlation coefficient\n",
        "\n",
        "The distributions show peaks at positive but also negative correlation coefficients. We expected just the positive peaks. To verify that the peaks are actually reflecting the data, we will now plot a few of the dffs that are strongly positively and strongly negatively correlated with the stimulus. Since removing the low contrast (strong flickering) data did not change anything, we continue to work on the full dataset including the stimuli with flickering.\n",
        "\n",
        "First, we'll build two of the stimuli regressors we already used in plotting the correlation histogram matrix. Then we correlate the active dffs with the regressor and choose a correlation coefficient as a threshold. In the plotting loop, we then choose the 5 dff traces with the highest correlation coefficient and plot them on top of the regressor."
      ]
    },
    {
      "cell_type": "code",
      "execution_count": null,
      "metadata": {},
      "outputs": [],
      "source": [
        "# build stimulus\n",
        "clock_acr = np.array(clock * acr_contr)\n",
        "cclock_acr = np.array(cclock * acr_contr)\n",
        "\n",
        "# correlate\n",
        "corr_clock_acr = np.array([pearsonr(clock_acr, x)[0] for x in d.active_mean_dffs])\n",
        "corr_cclock_acr = np.array([pearsonr(cclock_acr, x)[0] for x in d.active_mean_dffs])\n",
        "\n",
        "# make index vector\n",
        "index = np.arange(len(corr_clock_acr))\n",
        "\n",
        "# make threshold\n",
        "thresh = 0.4\n",
        "\n",
        "# use threshold to get index\n",
        "index_clock_acr = index[corr_clock_acr > thresh]\n",
        "index_cclock_acr = index[corr_cclock_acr > thresh]\n",
        "\n",
        "# use the index to get the dff data\n",
        "dffs_clock_acr = d.active_mean_dffs[index_clock_acr, :]\n",
        "dffs_cclock_acr = d.active_mean_dffs[index_cclock_acr, :]"
      ]
    },
    {
      "cell_type": "code",
      "execution_count": null,
      "metadata": {},
      "outputs": [],
      "source": [
        "#| code-fold: true\n",
        "# plot them\n",
        "idx = np.arange(d.inx_mean[0][1]+1)\n",
        "fig, ax = plt.subplots(2,1, figsize=(20*ps.cm, 12*ps.cm), constrained_layout=True, sharex=True, sharey=True)\n",
        "\n",
        "ax[0].set_title('Clockw. * achrom.', loc='left')\n",
        "ax[0].plot(d.mean_times[idx], clock_acr[idx], c='darkgray', label='stimulus')\n",
        "for i in range(5):\n",
        "    clock_acr_dff = dffs_clock_acr[i]\n",
        "    ax[0].plot(d.mean_times[idx], clock_acr_dff[idx]-clock_acr_dff[idx].min(), label = 'dff', alpha = 0.6)\n",
        "\n",
        "ax[1].set_title('Counterclockw. * achrom.', loc='left')\n",
        "ax[1].plot(d.mean_times[idx], cclock_acr[idx], c='darkgray', label='stimulus')\n",
        "for i in range(5):\n",
        "    cclock_acr_dff = dffs_cclock_acr[i]\n",
        "    ax[1].plot(d.mean_times[idx], cclock_acr_dff[idx]-cclock_acr_dff[idx].min(), label = 'dff', alpha = 0.6)\n",
        "\n",
        "# ax[0].legend()\n",
        "fig.supxlabel('Time [s]', fontsize=14)\n",
        "fig.supylabel('Norm. activity', fontsize=14)"
      ]
    },
    {
      "cell_type": "markdown",
      "metadata": {},
      "source": [
        "Now we try the same for a negative correlation threshold. The same routine is repeated just with a negative correlation coefficient threshold. In this case the threshold was smaller because there were fewer dffs that were strongly negatively correlated to the regressor."
      ]
    },
    {
      "cell_type": "code",
      "execution_count": null,
      "metadata": {},
      "outputs": [],
      "source": [
        "# make threshold\n",
        "thresh = -0.25\n",
        "\n",
        "# use threshold to get index\n",
        "index_clock_acr = index[corr_clock_acr < thresh]\n",
        "index_cclock_acr = index[corr_cclock_acr < thresh]\n",
        "\n",
        "# use the index to get the dff data\n",
        "dffs_clock_acr = d.active_mean_dffs[index_clock_acr, :]\n",
        "dffs_cclock_acr = d.active_mean_dffs[index_cclock_acr, :]"
      ]
    },
    {
      "cell_type": "code",
      "execution_count": null,
      "metadata": {},
      "outputs": [],
      "source": [
        "#| code-fold: true\n",
        "# plot them\n",
        "idx = np.arange(d.inx_mean[0][1]+1)\n",
        "fig, ax = plt.subplots(2,1, figsize=(20*ps.cm, 12*ps.cm), constrained_layout=True, sharex=True, sharey=True)\n",
        "\n",
        "ax[0].set_title('Clockw. * achrom.', loc='left')\n",
        "ax[0].plot(d.mean_times[idx], clock_acr[idx], c='darkgray', label='stimulus')\n",
        "for i in range(5):\n",
        "    clock_acr_dff = dffs_clock_acr[i]\n",
        "    ax[0].plot(d.mean_times[idx], clock_acr_dff[idx]-clock_acr_dff[idx].min(), label = 'dff', alpha = 0.6)\n",
        "\n",
        "ax[1].set_title('Counterclockw. * achrom.', loc='left')\n",
        "ax[1].plot(d.mean_times[idx], cclock_acr[idx], c='darkgray', label='stimulus')\n",
        "for i in range(5):\n",
        "    cclock_acr_dff = dffs_cclock_acr[i]\n",
        "    ax[1].plot(d.mean_times[idx], cclock_acr_dff[idx]-cclock_acr_dff[idx].min(), label = 'dff', alpha = 0.6)\n",
        "\n",
        "# ax[0].legend()\n",
        "fig.supxlabel('Time [s]', fontsize=14)\n",
        "fig.supylabel('Norm. activity', fontsize=14)"
      ]
    },
    {
      "cell_type": "markdown",
      "metadata": {},
      "source": [
        "## Extracting motion selectie units\n",
        "\n",
        "We have now explored the data and know that we have units in our dataset that respond to our stimulus. In a next step, we want to extract these cells while staying stimulus agnosting. The test stimulus were the different contrast levels. In order to exclude this in our selected units, we will use the regressor that only includes motion direction to correlate, and subsequenctly threshold, to get the dffs of the units for further analysis."
      ]
    },
    {
      "cell_type": "code",
      "execution_count": null,
      "metadata": {},
      "outputs": [],
      "source": [
        "# compute corrs\n",
        "corr_clock = np.array([pearsonr(x, clock)[0] for x in d.active_mean_dffs])\n",
        "corr_cclock = np.array([pearsonr(x, cclock)[0] for x in d.active_mean_dffs])\n",
        "\n",
        "thresh = 0.3\n",
        "\n",
        "# plot\n",
        "fig, ax = plt.subplots(1,2,figsize=(20*ps.cm, 6*ps.cm), sharex=True, sharey = True, constrained_layout = True)\n",
        "ax[0].hist(corr_clock, bins=40, range=(-0.8,0.8))\n",
        "ax[0].axvline(thresh, lw=1, c='r', ls='dashed')\n",
        "ax[1].hist(corr_cclock, bins=40, range=(-0.8,0.8))\n",
        "ax[1].axvline(thresh, lw=1, c='r', ls='dashed')\n",
        "ax[0].set_title('Clockwise')\n",
        "ax[1].set_title('Countercl.')\n",
        "fig.supxlabel('Pearson correlation', fontsize=14)\n",
        "fig.supylabel('Count', fontsize=14)\n",
        "\n",
        "# threshold rois\n",
        "class selective_rois:\n",
        "    def __init__(self, all_rois, corrs, thresh):\n",
        "\n",
        "        # get active rois\n",
        "        self.__all_dffs = all_rois.active_mean_dffs \n",
        "        self.__all_rois = all_rois.active_mean_rois\n",
        "        self.__all_recs = all_rois.active_mean_recs\n",
        "        self.__all_corrs = corrs\n",
        "        self.thresh = thresh\n",
        "        \n",
        "        # do checks\n",
        "        if len(corrs) != len(self.__all_dffs):\n",
        "            raise ValueError('The correlations do not match the active dffs!')\n",
        "        \n",
        "        if (thresh > 0) & (len(self.__all_corrs[self.__all_corrs>thresh]) == 0):\n",
        "            raise ValueError('The threshold is too large!')\n",
        "\n",
        "        if (thresh < 0) & (len(self.__all_corrs[self.__all_corrs<thresh]) == 0):\n",
        "            raise ValueError('The threshold is too small!')\n",
        "\n",
        "        # get selective dff data\n",
        "        self.dffs = self.__all_dffs[self.__all_corrs > self.thresh]\n",
        "        self.rois = self.__all_rois[self.__all_corrs > self.thresh]\n",
        "        self.recs = self.__all_recs[self.__all_corrs > self.thresh]\n",
        "        self.corrs = self.__all_corrs[self.__all_corrs > self.thresh]\n",
        "\n",
        "# get the data\n",
        "dc = selective_rois(d, corr_clock, thresh)\n",
        "dcc = selective_rois(d, corr_cclock, thresh)"
      ]
    },
    {
      "cell_type": "markdown",
      "metadata": {},
      "source": [
        "Now lets first take a look at the responses of both direction selective cells to different levels of achromatic contrast."
      ]
    },
    {
      "cell_type": "code",
      "execution_count": null,
      "metadata": {},
      "outputs": [],
      "source": [
        "class phase_activity:\n",
        "    def __init__(self, selective_rois, stim):\n",
        "\n",
        "        self.__rois = selective_rois\n",
        "        self.__stim = stim\n",
        "        self.__cat_index = np.arange(len(self.__stim))\n",
        "        self.cats = np.unique(self.__stim[~np.isnan(self.__stim)])\n",
        "        self.dffs = []\n",
        "        self.mean_dffs = []\n",
        "        self.rois = self.__rois.rois\n",
        "        self.recs = self.__rois.recs\n",
        "        \n",
        "        for i in self.cats:\n",
        "            idx = self.__cat_index[self.__stim == i]\n",
        "            cat_dffs = self.__rois.dffs[:,idx]\n",
        "            mean_dffs = np.mean(cat_dffs, axis=1)\n",
        "            self.dffs.append(cat_dffs)\n",
        "            self.mean_dffs.append(mean_dffs)\n",
        "\n",
        "# build stim\n",
        "clock_stim = np.array(clock, dtype=float)\n",
        "cclock_stim = np.array(cclock, dtype=float)\n",
        "\n",
        "clock_stim[clock_stim == 0] = np.nan\n",
        "cclock_stim[cclock_stim == 0] = np.nan\n",
        "\n",
        "acr_clock_stim = clock_stim * acr_contr\n",
        "acr_cclock_stim = cclock_stim * acr_contr\n",
        "\n",
        "acr_clock_activity = phase_activity(dc, acr_clock_stim)\n",
        "acr_cclock_activity = phase_activity(dcc, acr_cclock_stim)"
      ]
    },
    {
      "cell_type": "code",
      "execution_count": null,
      "metadata": {},
      "outputs": [],
      "source": [
        "#| code-fold: true\n",
        "fig, ax = plt.subplots(1,2,figsize=(20*ps.cm, 12*ps.cm),sharex=True,sharey=True, constrained_layout=True)\n",
        "ax[0].plot(acr_clock_activity.cats, acr_clock_activity.mean_dffs, c='darkgray', lw=1,)\n",
        "ax[1].plot(acr_cclock_activity.cats, acr_cclock_activity.mean_dffs, c='darkgray', lw=1)\n",
        "ax[0].plot(acr_clock_activity.cats, np.mean(acr_clock_activity.mean_dffs, axis=1), lw=2, c='k')\n",
        "ax[1].plot(acr_cclock_activity.cats, np.mean(acr_cclock_activity.mean_dffs, axis=1), lw=2, c='k')\n",
        "ax[0].set_title('achromatic*clockwise')\n",
        "ax[1].set_title('achromatic*countercl.')\n",
        "fig.supxlabel('Contrast', fontsize=14)\n",
        "fig.supylabel('Mean dff', fontsize=14)"
      ]
    },
    {
      "cell_type": "markdown",
      "metadata": {},
      "source": [
        "Both direction selective cell types increase their activity with increasing absolute intensity contrast. Now lets see how red and green contrast influence the activity together."
      ]
    },
    {
      "cell_type": "code",
      "execution_count": null,
      "metadata": {},
      "outputs": [],
      "source": [
        "class rg_activity:\n",
        "    def __init__(self, selective_rois, contr1, contr2):\n",
        "\n",
        "        self.__rois = selective_rois\n",
        "        self.__contr1 = contr1\n",
        "        self.__contr2 = contr2\n",
        "        self.__index = np.arange(len(self.__contr1))\n",
        "        self.contr1 = np.unique(self.__contr1[~np.isnan(self.__contr1)])\n",
        "        self.contr2 = np.unique(self.__contr2[~np.isnan(self.__contr2)])\n",
        "        self.dffs = []\n",
        "        self.mean_dffs = []\n",
        "        self.contr1_index = []\n",
        "        self.contr2_index = []\n",
        "        self.rois = self.__rois.rois\n",
        "        self.recs = self.__rois.recs\n",
        "        \n",
        "        for c1 in self.contr1:\n",
        "\n",
        "            self.contr1_index.append(c1)\n",
        "            idx = self.__index[self.__contr1 == c1]\n",
        "            cat_dffs = self.__rois.dffs[:,idx]\n",
        "            # mean_dffs = np.mean(cat_dffs, axis=1)\n",
        "            self.contr2_index.append(self.__contr2[idx])\n",
        "            self.dffs.append(cat_dffs)\n",
        "            # self.mean_dffs.append(mean_dffs)\n",
        "\n",
        "        self.mean_dffs = np.array(self.mean_dffs)\n",
        "        self.contr1_index = np.array(self.contr1_index)\n",
        "        self.contr2_index = np.array(self.contr2_index)\n",
        "\n",
        "red_clock_stim = red_contr*clock_stim\n",
        "green_clock_stim = green_contr*clock_stim\n",
        "\n",
        "red_cclock_stim = red_contr*cclock_stim\n",
        "green_cclock_stim = green_contr*cclock_stim\n",
        "\n",
        "rg_clock_data = rg_activity(dc, red_clock_stim, green_clock_stim)\n",
        "rg_cclock_data = rg_activity(dcc, red_cclock_stim, green_cclock_stim)\n",
        "\n",
        "fig, ax = plt.subplots(2,3, sharex=True, sharey=True, figsize=(20*ps.cm, 20*ps.cm))\n",
        "ax = fs.flatten(ax)\n",
        "\n",
        "colors = [ps.orange, ps.red]\n",
        "labels = ['clockwise-selective cells', 'countercl.-selective cells']\n",
        "for lab, color, rg_clock in zip(labels, colors, [rg_clock_data, rg_cclock_data]):\n",
        "    for i1, rds in enumerate(rg_clock.contr1):\n",
        "        dffs = []\n",
        "        contr = []\n",
        "        for dff in np.array(rg_clock.dffs)[rg_clock.contr1 == rds]:\n",
        "            for i in range(len(dff[:,0])):\n",
        "                \n",
        "                # the data\n",
        "                roi_dff = dff[i,:]\n",
        "                contrsts2 = np.array(rg_clock.contr2_index)[rg_clock.contr1 == rds][0]\n",
        "\n",
        "                # sort the data\n",
        "                sort_roi_dff = roi_dff[np.argsort(contrsts2)]\n",
        "                sort_contrsts2 = contrsts2[np.argsort(contrsts2)]\n",
        "\n",
        "                dffs.append(sort_roi_dff)\n",
        "                contr.append(sort_contrsts2)\n",
        "\n",
        "                ax[i1].scatter(\n",
        "                    sort_contrsts2, \n",
        "                    sort_roi_dff, \n",
        "                    color='grey', \n",
        "                    marker='.', \n",
        "                    # edgecolor='gray', \n",
        "                    alpha = 0.1\n",
        "                )\n",
        "\n",
        "        # compute means for each category\n",
        "        contrs = np.unique(fs.flatten(contr))\n",
        "        meandff = []\n",
        "        for c2 in contrs:\n",
        "            meandff.append(np.mean(np.array(fs.flatten(dffs))[fs.flatten(contr) == c2]))\n",
        "\n",
        "        ax[i1].plot(contrs, meandff, label=lab, c=color, lw=2.5)\n",
        "        ax[i1].set_title(f\"Red contr = {np.round(rds,2)}\", fontsize=14)\n",
        "\n",
        "fig.supxlabel('Green channel contrast', fontsize=14)\n",
        "fig.supylabel('Norm. dff', fontsize=14)\n",
        "handles, labels = ax[i1].get_legend_handles_labels()\n",
        "fig.legend(handles, labels, loc='upper center', ncol=2)"
      ]
    },
    {
      "cell_type": "code",
      "execution_count": null,
      "metadata": {},
      "outputs": [],
      "source": []
    }
  ],
  "metadata": {
    "kernelspec": {
      "display_name": "Python 3.10.8 ('env': venv)",
      "language": "python",
      "name": "python3"
    },
    "language_info": {
      "codemirror_mode": {
        "name": "ipython",
        "version": 3
      },
      "file_extension": ".py",
      "mimetype": "text/x-python",
      "name": "python",
      "nbconvert_exporter": "python",
      "pygments_lexer": "ipython3",
      "version": "3.10.8"
    },
    "vscode": {
      "interpreter": {
        "hash": "c8f0e282dd45bdc04ae110c6ad19dcd0f243e07b2d6493e4ca8736b051425bda"
      }
    }
  },
  "nbformat": 4,
  "nbformat_minor": 4
}

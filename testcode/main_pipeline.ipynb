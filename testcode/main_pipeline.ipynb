{
 "cells": [
  {
   "cell_type": "markdown",
   "metadata": {},
   "source": [
    "---\n",
    "title: Calcium imaging in the zebrafish tectum\n",
    "description: Are direction-selective cells in the zebrafish optical tectum colorblind?\n",
    "author: 'Alexander Wendt, Patrick Weygoldt'\n",
    "date: '2018-05-04'\n",
    "date-format: long\n",
    "published-title: Date\n",
    "author-title: Authors\n",
    "title-block-banner: '#1d1d1d'\n",
    "format:\n",
    "  html:\n",
    "    code-fold: false\n",
    "    fig-format: svg\n",
    "    fig-responsive: true\n",
    "    theme:\n",
    "      light: flatly\n",
    "      dark: darkly\n",
    "jupyter: python3\n",
    "---"
   ]
  },
  {
   "cell_type": "code",
   "execution_count": null,
   "metadata": {},
   "outputs": [],
   "source": [
    "#| output: false\n",
    "\n",
    "import os\n",
    "import matplotlib.pyplot as plt\n",
    "import numpy as np\n",
    "import modules.functions as fs\n",
    "from dataclasses import dataclass\n",
    "from vxtools.summarize.structure import SummaryFile\n",
    "from sklearn.metrics import auc\n",
    "from scipy.stats import pearsonr\n",
    "from modules.dataloader import all_rois\n",
    "from modules.plotstyle import PlotStyle\n",
    "\n",
    "ps = PlotStyle()"
   ]
  }
 ],
 "metadata": {
  "kernelspec": {
   "display_name": "Python 3.10.8 ('env': venv)",
   "language": "python",
   "name": "python3"
  },
  "language_info": {
   "name": "python",
   "version": "3.10.8"
  },
  "orig_nbformat": 4,
  "vscode": {
   "interpreter": {
    "hash": "e65e7c3bb8f4cd8ac4466211b53c2585547d1a3ad2ae823f41b00d31837db2fb"
   }
  }
 },
 "nbformat": 4,
 "nbformat_minor": 2
}

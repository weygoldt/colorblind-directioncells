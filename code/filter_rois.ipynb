{
 "cells": [
  {
   "cell_type": "code",
   "execution_count": null,
   "metadata": {},
   "outputs": [],
   "source": [
    "import numpy as np \n",
    "import matplotlib.pyplot as plt\n",
    "import modules.functions as fs\n",
    "from modules.termcolors import TermColor as tc\n",
    "from modules.plotstyle import PlotStyle\n"
   ]
  }
 ],
 "metadata": {
  "kernelspec": {
   "display_name": "Python 3.10.8 ('env': venv)",
   "language": "python",
   "name": "python3"
  },
  "language_info": {
   "name": "python",
   "version": "3.10.8"
  },
  "orig_nbformat": 4,
  "vscode": {
   "interpreter": {
    "hash": "e65e7c3bb8f4cd8ac4466211b53c2585547d1a3ad2ae823f41b00d31837db2fb"
   }
  }
 },
 "nbformat": 4,
 "nbformat_minor": 2
}

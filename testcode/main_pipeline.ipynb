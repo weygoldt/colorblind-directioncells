{
 "cells": [
  {
   "cell_type": "raw",
   "metadata": {},
   "source": [
    "---\n",
    "title: Calcium imaging in the zebrafish tectum\n",
    "description: Are direction-selective cells in the zebrafish optical tectum colorblind?\n",
    "author: 'Alexander Wendt, Patrick Weygoldt'\n",
    "date: '2018-05-04'\n",
    "date-format: long\n",
    "published-title: Date\n",
    "author-title: Authors\n",
    "title-block-banner: '#1d1d1d'\n",
    "format:\n",
    "  html:\n",
    "    code-fold: false\n",
    "    fig-format: svg\n",
    "    fig-responsive: true\n",
    "    theme:\n",
    "      light: flatly\n",
    "      dark: darkly\n",
    "jupyter: python3\n",
    "---"
   ]
  },
  {
   "cell_type": "code",
   "execution_count": 1,
   "metadata": {},
   "outputs": [
    {
     "name": "stderr",
     "output_type": "stream",
     "text": [
      "/home/weygoldt/Data/uni/neuro_gp/calciumimaging/testcode/modules/functions.py:10: TqdmExperimentalWarning: Using `tqdm.autonotebook.tqdm` in notebook mode. Use `tqdm.tqdm` instead to force console mode (e.g. in jupyter console)\n",
      "  from tqdm.autonotebook import tqdm\n"
     ]
    }
   ],
   "source": [
    "#| output: false\n",
    "\n",
    "import numpy as np\n",
    "import matplotlib.pyplot as plt\n",
    "import modules.functions as fs\n",
    "from vxtools.summarize.structure import SummaryFile\n",
    "from modules.dataloadr import MultiFish, SingleFish\n",
    "from modules.plotstyle import PlotStyle\n",
    "from sklearn.metrics import auc\n",
    "from scipy.stats import pearsonr\n",
    "from modules.contrast import selective_rois_trash, rg_activity_trash\n",
    "%matplotlib qt\n",
    "\n",
    "ps = PlotStyle()\n",
    "\n",
    "# now load the data\n",
    "DATAROOT2 = '../data/data2/'\n",
    "DATAROOT3 = '../data/data3/'\n",
    "f2 = SummaryFile(DATAROOT2 + 'Summary.hdf5')\n",
    "f3 = SummaryFile(DATAROOT3 + 'Summary.hdf5')\n",
    "good_recs2 = [0, 1, 2, 4, 5]\n",
    "good_recs3 = [0, 1, 2, 3, 4]\n",
    "\n",
    "# load matrix of all rois of all layers with good rois\n",
    "d2 = SingleFish(f2, good_recs2, overwrite=False)\n",
    "d3 = SingleFish(f3, good_recs3, overwrite=False)\n",
    "\n",
    "# load all fish in multifish class\n",
    "mf = MultiFish([d2, d3])"
   ]
  },
  {
   "cell_type": "code",
   "execution_count": 2,
   "metadata": {},
   "outputs": [
    {
     "data": {
      "text/plain": [
       "Text(0, 0.5, 'ROI')"
      ]
     },
     "execution_count": 2,
     "metadata": {},
     "output_type": "execute_result"
    }
   ],
   "source": [
    "fig, ax = plt.subplots(figsize=(20*ps.cm, 12*ps.cm))\n",
    "extent = (np.min(mf.times), np.max(mf.times), 0, len(mf.pmean_dffs[:,0]))\n",
    "ax.imshow(mf.pmean_dffs, aspect='auto', extent=extent, origin='upper')\n",
    "ax.set_xlabel('Time [s]')\n",
    "ax.set_ylabel('ROI')"
   ]
  },
  {
   "cell_type": "code",
   "execution_count": 3,
   "metadata": {},
   "outputs": [
    {
     "name": "stdout",
     "output_type": "stream",
     "text": [
      "\n"
     ]
    },
    {
     "data": {
      "application/vnd.jupyter.widget-view+json": {
       "model_id": "665cf62b088a49d892ca2eee9f7b1e02",
       "version_major": 2,
       "version_minor": 0
      },
      "text/plain": [
       "\u001b[92m\u001b[1m[ roimatrix.sort_means_by_corr ]\u001b[0m Computing autocorrelation for every dff ...:   0%|          | 0/…"
      ]
     },
     "metadata": {},
     "output_type": "display_data"
    },
    {
     "name": "stdout",
     "output_type": "stream",
     "text": [
      "\n",
      "\u001b[92m\u001b[1m[ roimatrix.repeat_means ]\u001b[0m Computing means across repeats...\n",
      "computed AreaUnderCurve (AUC) of KDE using sklearn.metrics.auc: 0.9999999603832244\n"
     ]
    }
   ],
   "source": [
    "#| output: false\n",
    "\n",
    "# Sort dff indices by correlation coefficient\n",
    "mf.responding_rois()\n",
    "mf.repeat_means()\n",
    "\n",
    "# make a histpgram\n",
    "counts, edges = np.histogram(mf.corrs[:, 1], bins=50, range=(-1,1), density=True)\n",
    "\n",
    "# compute a gaussian KDE\n",
    "xkde, kde = fs.kde1d(mf.corrs[:, 1], 0.02, xlims=[edges.min(), edges.max()])"
   ]
  },
  {
   "cell_type": "code",
   "execution_count": 4,
   "metadata": {},
   "outputs": [
    {
     "data": {
      "text/plain": [
       "Text(0, 0.5, 'Probability density')"
      ]
     },
     "execution_count": 4,
     "metadata": {},
     "output_type": "execute_result"
    }
   ],
   "source": [
    "#| code-fold: true\n",
    "\n",
    "fig, ax = plt.subplots(figsize=(20*ps.cm, 8*ps.cm))\n",
    "ax.bar(edges[:-1], counts, width=np.diff(edges),edgecolor=\"white\", facecolor=\"k\", alpha=0.2,linewidth=0, align=\"edge\", zorder=20)\n",
    "ax.plot(xkde, kde, zorder=10, c=\"k\")\n",
    "ax.axvline([0], lw=1, ls=\"dashed\", c=\"k\")\n",
    "ax.set_xlabel(\"Pearson r\")\n",
    "ax.set_ylabel(\"Probability density\")"
   ]
  },
  {
   "cell_type": "code",
   "execution_count": 5,
   "metadata": {},
   "outputs": [],
   "source": [
    "#| output: false\n",
    "\n",
    "target_auc = 0.2 # probability threshold\n",
    "\n",
    "# create empty arrays for the gradient and index\n",
    "gradient = np.zeros_like(xkde[:-1])\n",
    "index = np.arange(len(xkde[:-1]))\n",
    "\n",
    "# compute the gradient between the target and actual auc\n",
    "for i in range(len(xkde[:-1])):\n",
    "    area = auc(xkde[i:], kde[i:])\n",
    "    gradient[i] = abs(area-target_auc)\n",
    "\n",
    "# find the index where the gradient is smallest\n",
    "idx = index[gradient == gradient.min()][0]"
   ]
  },
  {
   "cell_type": "code",
   "execution_count": 6,
   "metadata": {},
   "outputs": [
    {
     "data": {
      "text/plain": [
       "Text(0.5, 0.01, 'Pearson r')"
      ]
     },
     "execution_count": 6,
     "metadata": {},
     "output_type": "execute_result"
    }
   ],
   "source": [
    "#| code-fold: true\n",
    "\n",
    "# plot the gradient\n",
    "fig, ax = plt.subplots(1,2,figsize=(20*ps.cm, 8*ps.cm), constrained_layout=True)\n",
    "ax[0].plot(xkde, kde, c=\"k\")\n",
    "ax[0].fill_between(xkde[idx:], np.zeros_like(xkde[idx:]), kde[idx:], zorder=-10, alpha=1, color=ps.orange)\n",
    "ax[0].set_title(\"Area under PDF\")\n",
    "ax[0].set_ylabel(\"PDF\")\n",
    "ax[1].plot(xkde[:-1], gradient, c=\"k\")\n",
    "ax[1].scatter(xkde[idx], gradient[idx], zorder=10, color=ps.orange)\n",
    "ax[1].set_title(\"Difference gradient\")\n",
    "ax[1].set_ylabel(\"AUC-thresh\")\n",
    "fig.supxlabel(\"Pearson r\")"
   ]
  },
  {
   "cell_type": "code",
   "execution_count": 7,
   "metadata": {},
   "outputs": [],
   "source": [
    "#| output: false\n",
    "\n",
    "# create a threshold\n",
    "thresh = xkde[idx]\n",
    "\n",
    "# get the rois\n",
    "thresh_pmean_rois = fs.thresh_correlations(mf.corrs, thresh)\n",
    "\n",
    "# get the phase and repeat mean dffs\n",
    "active_pmean_rmean_dffs = np.array([mf.pmean_rmean_dffs[int(roi), :] for roi in thresh_pmean_rois[:,0]])\n",
    "\n",
    "# get the phase mean dff\n",
    "active_pmean_dffs = np.array([mf.pmean_dffs[int(roi), :] for roi in thresh_pmean_rois[:,0]])\n",
    "\n",
    "# get their rois as well\n",
    "active_pmean_rois = np.array([mf.rois[int(roi)] for roi in thresh_pmean_rois[:,0]])\n",
    "\n",
    "# ... and the recording they came from\n",
    "active_pmean_recs = np.array([mf.recs[int(roi)] for roi in thresh_pmean_rois[:,0]])"
   ]
  },
  {
   "cell_type": "code",
   "execution_count": 8,
   "metadata": {},
   "outputs": [],
   "source": [
    "#| code-fold: true\n",
    "\n",
    "# take only first repeat\n",
    "idx = np.arange(mf.inx_pmean[0][0], mf.inx_pmean[0][1])\n",
    "\n",
    "# luminance contrast: max(all)_stripe1 - max(all)_stripe2\n",
    "stripe1 = np.array([np.max(x) for x in mf.red])\n",
    "stripe2 = np.array([np.max(x) for x in mf.green])\n",
    "lum_contr = abs(stripe1-stripe2)[mf.inx_pmean[0][0]:mf.inx_pmean[0][1]]\n",
    "\n",
    "# color contrast: red_stripe1 - red_stripe2 (for red and green)\n",
    "red = mf.red[:mf.inx_pmean[0][1]]\n",
    "reds = np.array((red, red))\n",
    "green = mf.green[:mf.inx_pmean[0][1]]\n",
    "greens = np.array((green, green))\n",
    "\n",
    "# make no rot = 0, counterclock = -1, clockwise = 1\n",
    "ang_veloc = mf.ang_velocs[1:-1][mf.inx_pmean[0][0]:mf.inx_pmean[0][1]]\n",
    "norots = np.full(len(mf.ang_velocs), np.nan)\n",
    "leftrots = np.full(len(mf.ang_velocs), np.nan)\n",
    "rightrots = np.full(len(mf.ang_velocs), np.nan)\n",
    "\n",
    "for i, rot in enumerate(mf.ang_velocs):\n",
    "    if rot > 0.0:\n",
    "        rightrots[i] = 0\n",
    "    elif rot == 0.0:\n",
    "        norots[i] = 0\n",
    "    else:\n",
    "        leftrots[i] = 0\n",
    "\n",
    "lum_img = np.empty((len(thresh_pmean_rois[0]), len(lum_contr)))\n",
    "for i in range(len(lum_img[:, 0])):\n",
    "    lum_img[i, :] = lum_contr\n",
    "\n",
    "# plot the raster\n",
    "fig, ax = plt.subplots(5, 1,\n",
    "                       figsize=(20*ps.cm, 16*ps.cm),\n",
    "                       gridspec_kw={'height_ratios': [10, 0.2, 0.2, 0.2, 0.2]},\n",
    "                       sharex=True,\n",
    "                       )\n",
    "\n",
    "extent = (np.min(mf.pmean_rmean_dffs), np.max(mf.pmean_rmean_dffs), 0, len(active_pmean_rmean_dffs))\n",
    "\n",
    "ax[0].imshow(active_pmean_rmean_dffs, aspect=\"auto\", extent=extent, origin=\"upper\", interpolation=\"none\")\n",
    "\n",
    "\n",
    "# plot contrast\n",
    "ax[1].imshow(lum_img,\n",
    "             cmap=\"binary\",\n",
    "             alpha=1,\n",
    "             aspect=\"auto\",\n",
    "             extent=extent,\n",
    "             interpolation=\"none\",\n",
    "             )\n",
    "ax[2].imshow(reds,\n",
    "             cmap=\"Reds\",\n",
    "             aspect=\"auto\",\n",
    "             extent=extent,\n",
    "             interpolation=\"none\",\n",
    "             )\n",
    "ax[3].imshow(greens,\n",
    "             cmap=\"Greens\",\n",
    "             aspect=\"auto\",\n",
    "             extent=extent,\n",
    "             interpolation=\"none\",\n",
    "             )\n",
    "\n",
    "ps.hide_helper_xax(ax[1])\n",
    "ps.hide_helper_xax(ax[2])\n",
    "ps.hide_helper_xax(ax[3])\n",
    "\n",
    "# remove upper and right axis\n",
    "ax[0].spines[\"right\"].set_visible(False)\n",
    "ax[0].spines[\"top\"].set_visible(False)\n",
    "ax[0].spines[\"bottom\"].set_visible(False)\n",
    "ax[4].spines[\"right\"].set_visible(False)\n",
    "ax[4].spines[\"top\"].set_visible(False)\n",
    "ax[4].spines[\"left\"].set_visible(False)\n",
    "ax[4].tick_params(left=False, labelleft=False)\n",
    "\n",
    "ax[4].set_xlabel(\"Time [s]\")\n",
    "ax[0].set_ylabel(\"ROI\")\n",
    "plt.show()"
   ]
  },
  {
   "cell_type": "code",
   "execution_count": 9,
   "metadata": {},
   "outputs": [],
   "source": [
    "#| output: false\n",
    "\n",
    "# motion regressor\n",
    "motion = np.array([1 if x != 0 else 0 for x in mf.ang_velocs])\n",
    "\n",
    "# clockwise motion regressor\n",
    "clock = np.array([1 if x > 0 else 0 for x in mf.ang_velocs])\n",
    "\n",
    "# counterclockwise motion regressor\n",
    "cclock = np.array([1 if x < 0 else 0 for x in mf.ang_velocs])"
   ]
  },
  {
   "cell_type": "code",
   "execution_count": 10,
   "metadata": {},
   "outputs": [],
   "source": [
    "#| output: false\n",
    "\n",
    "corr_motion = np.array([pearsonr(x, motion)[0] for x in active_pmean_dffs])\n",
    "corr_clock = np.array([pearsonr(x, clock)[0] for x in active_pmean_dffs])\n",
    "corr_cclock = np.array([pearsonr(x, cclock)[0] for x in active_pmean_dffs])"
   ]
  },
  {
   "cell_type": "code",
   "execution_count": 11,
   "metadata": {},
   "outputs": [
    {
     "data": {
      "text/plain": [
       "Text(0.02, 0.5, 'Count')"
      ]
     },
     "execution_count": 11,
     "metadata": {},
     "output_type": "execute_result"
    }
   ],
   "source": [
    "#| code-fold: true\n",
    "fig, ax = plt.subplots(1,3, figsize=(20*ps.cm, 8*ps.cm), sharex=True, sharey=True, constrained_layout=True)\n",
    "ax[0].hist(corr_motion, bins=40, range=(-0.8,0.8))\n",
    "ax[0].axvline(0, lw=1, linestyle='dashed', c='k')\n",
    "ax[1].hist(corr_clock, bins=40, range=(-0.8,0.8))\n",
    "ax[1].axvline(0, lw=1, linestyle='dashed', c='k')\n",
    "ax[2].hist(corr_cclock, bins=40, range=(-0.8,0.8))\n",
    "ax[2].axvline(0, lw=1, linestyle='dashed', c='k')\n",
    "ax[0].set_title(\"motion\")\n",
    "ax[1].set_title(\"clockw.\")\n",
    "ax[2].set_title(\"counterclockw.\")\n",
    "fig.supxlabel(\"Pearson r\")\n",
    "fig.supylabel(\"Count\")"
   ]
  },
  {
   "cell_type": "code",
   "execution_count": 12,
   "metadata": {},
   "outputs": [],
   "source": [
    "#| output: false\n",
    "\n",
    "# make chromatic contrasts\n",
    "red_contr = mf.red\n",
    "green_contr = mf.green\n",
    "\n",
    "# make achromatic contrast as the difference between the sums of both stripes\n",
    "acr_contr = np.array([abs(x - y) for x, y in zip(mf.red, mf.green)])"
   ]
  },
  {
   "cell_type": "code",
   "execution_count": 13,
   "metadata": {},
   "outputs": [],
   "source": [
    "#| output: false\n",
    "\n",
    "corr_red = np.array([pearsonr(x, red_contr)[0] for x in active_pmean_dffs])\n",
    "corr_green = np.array([pearsonr(x, green_contr)[0] for x in active_pmean_dffs])\n",
    "corr_acr = np.array([pearsonr(x, acr_contr)[0] for x in active_pmean_dffs])"
   ]
  },
  {
   "cell_type": "code",
   "execution_count": 14,
   "metadata": {},
   "outputs": [
    {
     "data": {
      "text/plain": [
       "Text(0.02, 0.5, 'Count')"
      ]
     },
     "execution_count": 14,
     "metadata": {},
     "output_type": "execute_result"
    }
   ],
   "source": [
    "#| code-fold: true\n",
    "\n",
    "fig, ax = plt.subplots(1,3, figsize=(20*ps.cm, 8*ps.cm), sharex=True, sharey=True, constrained_layout=True)\n",
    "ax[0].hist(corr_acr, bins=40, range=(-0.8,0.8))\n",
    "ax[0].axvline(0, lw=1, linestyle='dashed', c='k')\n",
    "ax[1].hist(corr_red, bins=40, range=(-0.8,0.8))\n",
    "ax[1].axvline(0, lw=1, linestyle='dashed', c='k')\n",
    "ax[2].hist(corr_green, bins=40, range=(-0.8,0.8))\n",
    "ax[2].axvline(0, lw=1, linestyle='dashed', c='k')\n",
    "ax[0].set_title(\"achromatic\")\n",
    "ax[1].set_title(\"red\")\n",
    "ax[2].set_title(\"green\")\n",
    "fig.supxlabel(\"Pearson r\")\n",
    "fig.supylabel(\"Count\")"
   ]
  },
  {
   "cell_type": "code",
   "execution_count": 15,
   "metadata": {},
   "outputs": [
    {
     "data": {
      "text/plain": [
       "Text(0.02, 0.5, 'Count')"
      ]
     },
     "execution_count": 15,
     "metadata": {},
     "output_type": "execute_result"
    }
   ],
   "source": [
    "motions = [motion, clock, cclock]\n",
    "motions_string = [\"motion\", \"clock\", \"counterclock\"]\n",
    "contr = [acr_contr, red_contr, green_contr]\n",
    "contr_string = [\"achrom\", \"red\", \"green\"]\n",
    "\n",
    "fig, axs = plt.subplots(3,3, figsize=(20*ps.cm, 16*ps.cm), sharex=True, sharey=True, constrained_layout=True)\n",
    "\n",
    "for i1, m in enumerate(motions):\n",
    "  for i2, c in enumerate(contr):\n",
    "    reg = c*m\n",
    "    corr = np.array([pearsonr(x, reg)[0] for x in active_pmean_dffs])\n",
    "    title = motions_string[i1] + '*' + contr_string[i2]\n",
    "    n, bins, patches = axs[i1, i2].hist(corr, bins=40, range=(-0.8,0.8))\n",
    "    axs[i1, i2].axvline(0, lw=1, linestyle='dashed', c='k')\n",
    "    axs[i1, i2].set_title(title)\n",
    "fig.supxlabel('Pearson r')\n",
    "fig.supylabel('Count')"
   ]
  },
  {
   "cell_type": "code",
   "execution_count": 16,
   "metadata": {},
   "outputs": [],
   "source": [
    "#| output: false\n",
    "\n",
    "# build stimulus\n",
    "clock_acr = np.array(clock * acr_contr)\n",
    "cclock_acr = np.array(cclock * acr_contr)\n",
    "\n",
    "# correlate\n",
    "corr_clock_acr = np.array([pearsonr(clock_acr, x)[0] for x in active_pmean_dffs])\n",
    "corr_cclock_acr = np.array([pearsonr(cclock_acr, x)[0] for x in active_pmean_dffs])\n",
    "\n",
    "# make index vector\n",
    "index = np.arange(len(corr_clock_acr))\n",
    "\n",
    "# make threshold\n",
    "thresh = 0.3\n",
    "\n",
    "# use threshold to get index\n",
    "index_clock_acr = index[corr_clock_acr > thresh]\n",
    "index_cclock_acr = index[corr_cclock_acr > thresh]\n",
    "\n",
    "# use the index to get the dff data\n",
    "dffs_clock_acr = active_pmean_dffs[index_clock_acr, :]\n",
    "dffs_cclock_acr = active_pmean_dffs[index_cclock_acr, :]"
   ]
  },
  {
   "cell_type": "code",
   "execution_count": 17,
   "metadata": {},
   "outputs": [
    {
     "data": {
      "text/plain": [
       "Text(0.02, 0.5, 'Norm. activity')"
      ]
     },
     "execution_count": 17,
     "metadata": {},
     "output_type": "execute_result"
    }
   ],
   "source": [
    "#| code-fold: true\n",
    "\n",
    "# plot them\n",
    "idx = np.arange(mf.inx_pmean[0][1]+1)\n",
    "fig, ax = plt.subplots(2,1, figsize=(20*ps.cm, 12*ps.cm), constrained_layout=True, sharex=True, sharey=True)\n",
    "\n",
    "ax[0].set_title('Clockw. * achrom.', loc='left')\n",
    "ax[0].plot(mf.pmean_times[idx], clock_acr[idx], c='k', label='stimulus', zorder=100, lw=1)\n",
    "\n",
    "for i in range(len(dffs_clock_acr[:,0])):\n",
    "    clock_acr_dff = dffs_clock_acr[i]\n",
    "    ax[0].plot(mf.pmean_times[idx], clock_acr_dff[idx]-clock_acr_dff[idx].min(), label = 'dff', alpha = 0.6)\n",
    "\n",
    "ax[1].set_title('Counterclockw. * achrom.', loc='left')\n",
    "ax[1].plot(mf.pmean_times[idx], cclock_acr[idx], c='k', label='stimulus', zorder=100, lw=1)\n",
    "\n",
    "for i in range(len(dffs_cclock_acr[:,0])):\n",
    "    cclock_acr_dff = dffs_cclock_acr[i]\n",
    "    ax[1].plot(mf.pmean_times[idx], cclock_acr_dff[idx]-cclock_acr_dff[idx].min(), label = 'dff', alpha = 0.6)\n",
    "\n",
    "# ax[0].legend()\n",
    "fig.supxlabel('Time [s]')\n",
    "fig.supylabel('Norm. activity')"
   ]
  },
  {
   "cell_type": "code",
   "execution_count": 18,
   "metadata": {},
   "outputs": [],
   "source": [
    "#| output: false\n",
    "\n",
    "# make threshold\n",
    "thresh = -0.20\n",
    "\n",
    "# use threshold to get index\n",
    "index_clock_acr = index[corr_clock_acr < thresh]\n",
    "index_cclock_acr = index[corr_cclock_acr < thresh]\n",
    "\n",
    "# use the index to get the dff data\n",
    "dffs_clock_acr = active_pmean_dffs[index_clock_acr, :]\n",
    "dffs_cclock_acr = active_pmean_dffs[index_cclock_acr, :]"
   ]
  },
  {
   "cell_type": "code",
   "execution_count": 19,
   "metadata": {},
   "outputs": [
    {
     "data": {
      "text/plain": [
       "Text(0.02, 0.5, 'Norm. activity')"
      ]
     },
     "execution_count": 19,
     "metadata": {},
     "output_type": "execute_result"
    }
   ],
   "source": [
    "#| code-fold: true\n",
    "\n",
    "# plot them\n",
    "idx = np.arange(mf.inx_pmean[0][1]+1)\n",
    "fig, ax = plt.subplots(2,1, figsize=(20*ps.cm, 12*ps.cm), constrained_layout=True, sharex=True, sharey=True)\n",
    "\n",
    "ax[0].set_title('Clockw. * achrom.', loc='left')\n",
    "ax[0].plot(mf.pmean_times[idx], clock_acr[idx], c='k', label='stimulus', zorder=100, lw=1)\n",
    "\n",
    "for i in range(len(dffs_clock_acr[:,0])):\n",
    "    clock_acr_dff = dffs_clock_acr[i]\n",
    "    ax[0].plot(mf.pmean_times[idx], clock_acr_dff[idx]-clock_acr_dff[idx].min(), label = 'dff', alpha = 0.6)\n",
    "\n",
    "ax[1].set_title('Counterclockw. * achrom.', loc='left')\n",
    "ax[1].plot(mf.pmean_times[idx], cclock_acr[idx], c='k', label='stimulus', zorder=100, lw=1)\n",
    "\n",
    "for i in range(len(dffs_cclock_acr[:,0])):\n",
    "    cclock_acr_dff = dffs_cclock_acr[i]\n",
    "    ax[1].plot(mf.pmean_times[idx], cclock_acr_dff[idx]-cclock_acr_dff[idx].min(), label = 'dff', alpha = 0.6)\n",
    "\n",
    "# ax[0].legend()\n",
    "fig.supxlabel('Time [s]')\n",
    "fig.supylabel('Norm. activity')"
   ]
  },
  {
   "cell_type": "code",
   "execution_count": 20,
   "metadata": {},
   "outputs": [
    {
     "data": {
      "text/plain": [
       "Text(0.02, 0.5, 'Count')"
      ]
     },
     "execution_count": 20,
     "metadata": {},
     "output_type": "execute_result"
    }
   ],
   "source": [
    "#| output: false\n",
    "\n",
    "# compute corrs\n",
    "corr_clock = np.array([pearsonr(x, clock)[0] for x in active_pmean_dffs])\n",
    "corr_cclock = np.array([pearsonr(x, cclock)[0] for x in active_pmean_dffs])\n",
    "\n",
    "thresh = 0.3\n",
    "\n",
    "# plot\n",
    "fig, ax = plt.subplots(1,2,figsize=(20*ps.cm, 8*ps.cm), sharex=True, sharey = True, constrained_layout = True)\n",
    "ax[0].hist(corr_clock, bins=40, range=(-0.8,0.8))\n",
    "ax[0].axvline(thresh, lw=1, c='r', ls='dashed')\n",
    "ax[1].hist(corr_cclock, bins=40, range=(-0.8,0.8))\n",
    "ax[1].axvline(thresh, lw=1, c='r', ls='dashed')\n",
    "ax[0].set_title('Clockwise')\n",
    "ax[1].set_title('Countercl.')\n",
    "fig.supxlabel('Pearson correlation')\n",
    "fig.supylabel('Count')"
   ]
  },
  {
   "cell_type": "code",
   "execution_count": 21,
   "metadata": {},
   "outputs": [
    {
     "ename": "NameError",
     "evalue": "name 'selective_rois' is not defined",
     "output_type": "error",
     "traceback": [
      "\u001b[0;31m---------------------------------------------------------------------------\u001b[0m",
      "\u001b[0;31mNameError\u001b[0m                                 Traceback (most recent call last)",
      "Cell \u001b[0;32mIn [21], line 2\u001b[0m\n\u001b[1;32m      1\u001b[0m \u001b[39m# get the data\u001b[39;00m\n\u001b[0;32m----> 2\u001b[0m dc \u001b[39m=\u001b[39m selective_rois(mf, corr_clock, thresh)\n\u001b[1;32m      3\u001b[0m dcc \u001b[39m=\u001b[39m selective_rois(mf, corr_cclock, thresh)\n",
      "\u001b[0;31mNameError\u001b[0m: name 'selective_rois' is not defined"
     ]
    }
   ],
   "source": [
    "# get the data\n",
    "dc = selective_rois_trash(active_pmean_recs, active_pmean_rois, active_pmean_recs, corr_clock, thresh)\n",
    "dcc = selective_rois_trash(active_pmean_recs, active_pmean_rois, active_pmean_recs, corr_cclock, thresh)"
   ]
  }
 ],
 "metadata": {
  "kernelspec": {
   "display_name": "Python 3.10.8 ('env': venv)",
   "language": "python",
   "name": "python3"
  },
  "language_info": {
   "codemirror_mode": {
    "name": "ipython",
    "version": 3
   },
   "file_extension": ".py",
   "mimetype": "text/x-python",
   "name": "python",
   "nbconvert_exporter": "python",
   "pygments_lexer": "ipython3",
   "version": "3.10.8"
  },
  "orig_nbformat": 4,
  "vscode": {
   "interpreter": {
    "hash": "e65e7c3bb8f4cd8ac4466211b53c2585547d1a3ad2ae823f41b00d31837db2fb"
   }
  }
 },
 "nbformat": 4,
 "nbformat_minor": 2
}
